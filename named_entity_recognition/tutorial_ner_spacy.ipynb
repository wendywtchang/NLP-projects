{
  "nbformat": 4,
  "nbformat_minor": 0,
  "metadata": {
    "colab": {
      "provenance": [],
      "machine_shape": "hm"
    },
    "kernelspec": {
      "name": "python3",
      "display_name": "Python 3"
    },
    "language_info": {
      "name": "python"
    },
    "accelerator": "GPU",
    "gpuClass": "premium"
  },
  "cells": [
    {
      "cell_type": "markdown",
      "source": [
        "# Use spaCy to build Named-Entity Recognition (NER)\n",
        "1. Dataset: [New York Times Relation Extraction Dataset](https://www.kaggle.com/datasets/daishinkan002/new-york-times-relation-extraction-dataset)\n",
        "  - 14 types of NER labels, e.g. \"LOCATION\", \"PERSON\", \"BUSINESS\", \"COUNTRY\", etc.\n",
        "  - training set: 56196 sentences\n",
        "  - validation set: 5000 sentences\n",
        "  - skewed data: most of the data belongs to 1 or 2 label categories.\n",
        "  \n",
        "2. Training Model: [spaCy transformer](https://spacy.io/usage/training) (roberta-base)\n",
        "3. Possible optimizations:\n",
        "  - Because this is an **imbalanced** dataset, we can optimize the training process by the options below:\n",
        "    - Oversampling: increase minor data \n",
        "    - Undersampling: decrease majority data \n",
        "    - Cost-sensitive learning: assign balanced weights to each class, etc."
      ],
      "metadata": {
        "id": "yKJSSnaEceut"
      }
    },
    {
      "cell_type": "code",
      "execution_count": null,
      "metadata": {
        "colab": {
          "base_uri": "https://localhost:8080/"
        },
        "id": "3kmGTxWFiDFU",
        "outputId": "6a781b3e-0cd0-4e66-c381-4c2c1c605106"
      },
      "outputs": [
        {
          "output_type": "stream",
          "name": "stdout",
          "text": [
            "Mounted at /content/drive\n"
          ]
        }
      ],
      "source": [
        "from google.colab import drive\n",
        "drive.mount(\"/content/drive\")"
      ]
    },
    {
      "cell_type": "code",
      "source": [
        "%cd /content/drive/MyDrive/REL/nyt_rel/dataset/"
      ],
      "metadata": {
        "colab": {
          "base_uri": "https://localhost:8080/"
        },
        "id": "lEoukNdqi6SO",
        "outputId": "299695cc-c4af-462f-d1be-cf70d99e0ca4"
      },
      "execution_count": null,
      "outputs": [
        {
          "output_type": "stream",
          "name": "stdout",
          "text": [
            "/content/drive/MyDrive/REL/nyt_rel/dataset\n"
          ]
        }
      ]
    },
    {
      "cell_type": "markdown",
      "source": [
        "## 1. Dataset Overview\n",
        "- Dataset: [New York Times Relation Extraction Dataset](https://www.kaggle.com/datasets/daishinkan002/new-york-times-relation-extraction-dataset)\n",
        "  - 14 types of named-entity labels, e.g. \n",
        "    - \"LOCATION\", \"PERSON\", \"BUSINESS\", \"COUNTRY\", etc.\n",
        "  - 24 types of relation labels, e.g. \n",
        "    - LOCATION - contains - LOCATION, \n",
        "    - LOCATION - capital - COUNTRY\n",
        "    - BUSINESS - founders - COMPANY, etc.\n",
        "  - Genre: news article\n",
        "  - Training set: 56196 sentences\n",
        "  - Validation set: 5000 sentences\n",
        "  - Visualization: Matplotlib "
      ],
      "metadata": {
        "id": "zI6fIPo4sFPU"
      }
    },
    {
      "cell_type": "code",
      "source": [
        "import pandas as pd"
      ],
      "metadata": {
        "id": "T4hIXm_-2bIX"
      },
      "execution_count": null,
      "outputs": []
    },
    {
      "cell_type": "code",
      "source": [
        "df = pd.read_json(\"train.json\", lines=True, encoding=\"utf-8\")"
      ],
      "metadata": {
        "id": "09M0a1OR2mQn"
      },
      "execution_count": null,
      "outputs": []
    },
    {
      "cell_type": "code",
      "source": [
        "df"
      ],
      "metadata": {
        "id": "MU2B-me9QFfr",
        "outputId": "b6e5f454-4d36-4697-d056-a68b0f52303e",
        "colab": {
          "base_uri": "https://localhost:8080/",
          "height": 641
        }
      },
      "execution_count": null,
      "outputs": [
        {
          "output_type": "execute_result",
          "data": {
            "text/plain": [
              "                                                sentText  \\\n",
              "0      Massachusetts ASTON MAGNA Great Barrington ; a...   \n",
              "1      North Carolina EASTERN MUSIC FESTIVAL Greensbo...   \n",
              "2      It will be the final movie credited to Debra H...   \n",
              "3      In a 3-0 victory over the Crew on Saturday in ...   \n",
              "4      The United States ambassador to Mexico , Tony ...   \n",
              "...                                                  ...   \n",
              "56191  Tanna 's big draw is Mount Yasur , one of the ...   \n",
              "56192  We flew Air Pacific -LRB- 800-227-4446 ; www.a...   \n",
              "56193  I think Westchester is changing , '' said Kenn...   \n",
              "56194  Here we have a 172-acre island with four-star ...   \n",
              "56195  One was for St. Francis de Sales Roman Catholi...   \n",
              "\n",
              "                                               articleId  \\\n",
              "0      /m/vinci8/data1/riedel/projects/relation/kb/ny...   \n",
              "1      /m/vinci8/data1/riedel/projects/relation/kb/ny...   \n",
              "2      /m/vinci8/data1/riedel/projects/relation/kb/ny...   \n",
              "3      /m/vinci8/data1/riedel/projects/relation/kb/ny...   \n",
              "4      /m/vinci8/data1/riedel/projects/relation/kb/ny...   \n",
              "...                                                  ...   \n",
              "56191  /m/vinci8/data1/riedel/projects/relation/kb/ny...   \n",
              "56192  /m/vinci8/data1/riedel/projects/relation/kb/ny...   \n",
              "56193  /m/vinci8/data1/riedel/projects/relation/kb/ny...   \n",
              "56194  /m/vinci8/data1/riedel/projects/relation/kb/ny...   \n",
              "56195  /m/vinci8/data1/riedel/projects/relation/kb/ny...   \n",
              "\n",
              "                                        relationMentions  \\\n",
              "0      [{'em1Text': 'Annandale-on-Hudson', 'em2Text':...   \n",
              "1      [{'em1Text': 'North Carolina', 'em2Text': 'Gre...   \n",
              "2      [{'em1Text': 'Debra Hill', 'em2Text': 'Haddonf...   \n",
              "3      [{'em1Text': 'Ohio', 'em2Text': 'Columbus', 'l...   \n",
              "4      [{'em1Text': 'Mexico', 'em2Text': 'Nuevo Lared...   \n",
              "...                                                  ...   \n",
              "56191  [{'em1Text': 'Tanna', 'em2Text': 'Mount Yasur'...   \n",
              "56192  [{'em1Text': 'Vanuatu', 'em2Text': 'Port Vila'...   \n",
              "56193  [{'em1Text': 'Kenneth T. Jackson', 'em2Text': ...   \n",
              "56194  [{'em1Text': 'Ellis Island', 'em2Text': 'Manha...   \n",
              "56195  [{'em1Text': 'Belle Harbor', 'em2Text': 'Queen...   \n",
              "\n",
              "                                          entityMentions  sentId  \n",
              "0      [{'start': 1, 'label': 'ORGANIZATION', 'text':...       1  \n",
              "1      [{'start': 0, 'label': 'LOCATION', 'text': 'No...       2  \n",
              "2      [{'start': 0, 'label': 'LOCATION', 'text': 'De...       1  \n",
              "3      [{'start': 0, 'label': 'LOCATION', 'text': 'Co...       1  \n",
              "4      [{'start': 0, 'label': 'LOCATION', 'text': 'Un...       1  \n",
              "...                                                  ...     ...  \n",
              "56191  [{'start': 0, 'label': 'PERSON', 'text': 'Tann...       2  \n",
              "56192  [{'start': 0, 'label': 'ORGANIZATION', 'text':...       3  \n",
              "56193  [{'start': 0, 'label': 'PERSON', 'text': 'Kenn...       1  \n",
              "56194  [{'start': 0, 'label': 'LOCATION', 'text': 'Ma...       1  \n",
              "56195  [{'start': 1, 'label': 'LOCATION', 'text': 'Be...       1  \n",
              "\n",
              "[56196 rows x 5 columns]"
            ],
            "text/html": [
              "\n",
              "  <div id=\"df-10a0240e-256d-4f72-898e-eea3f9474cf9\">\n",
              "    <div class=\"colab-df-container\">\n",
              "      <div>\n",
              "<style scoped>\n",
              "    .dataframe tbody tr th:only-of-type {\n",
              "        vertical-align: middle;\n",
              "    }\n",
              "\n",
              "    .dataframe tbody tr th {\n",
              "        vertical-align: top;\n",
              "    }\n",
              "\n",
              "    .dataframe thead th {\n",
              "        text-align: right;\n",
              "    }\n",
              "</style>\n",
              "<table border=\"1\" class=\"dataframe\">\n",
              "  <thead>\n",
              "    <tr style=\"text-align: right;\">\n",
              "      <th></th>\n",
              "      <th>sentText</th>\n",
              "      <th>articleId</th>\n",
              "      <th>relationMentions</th>\n",
              "      <th>entityMentions</th>\n",
              "      <th>sentId</th>\n",
              "    </tr>\n",
              "  </thead>\n",
              "  <tbody>\n",
              "    <tr>\n",
              "      <th>0</th>\n",
              "      <td>Massachusetts ASTON MAGNA Great Barrington ; a...</td>\n",
              "      <td>/m/vinci8/data1/riedel/projects/relation/kb/ny...</td>\n",
              "      <td>[{'em1Text': 'Annandale-on-Hudson', 'em2Text':...</td>\n",
              "      <td>[{'start': 1, 'label': 'ORGANIZATION', 'text':...</td>\n",
              "      <td>1</td>\n",
              "    </tr>\n",
              "    <tr>\n",
              "      <th>1</th>\n",
              "      <td>North Carolina EASTERN MUSIC FESTIVAL Greensbo...</td>\n",
              "      <td>/m/vinci8/data1/riedel/projects/relation/kb/ny...</td>\n",
              "      <td>[{'em1Text': 'North Carolina', 'em2Text': 'Gre...</td>\n",
              "      <td>[{'start': 0, 'label': 'LOCATION', 'text': 'No...</td>\n",
              "      <td>2</td>\n",
              "    </tr>\n",
              "    <tr>\n",
              "      <th>2</th>\n",
              "      <td>It will be the final movie credited to Debra H...</td>\n",
              "      <td>/m/vinci8/data1/riedel/projects/relation/kb/ny...</td>\n",
              "      <td>[{'em1Text': 'Debra Hill', 'em2Text': 'Haddonf...</td>\n",
              "      <td>[{'start': 0, 'label': 'LOCATION', 'text': 'De...</td>\n",
              "      <td>1</td>\n",
              "    </tr>\n",
              "    <tr>\n",
              "      <th>3</th>\n",
              "      <td>In a 3-0 victory over the Crew on Saturday in ...</td>\n",
              "      <td>/m/vinci8/data1/riedel/projects/relation/kb/ny...</td>\n",
              "      <td>[{'em1Text': 'Ohio', 'em2Text': 'Columbus', 'l...</td>\n",
              "      <td>[{'start': 0, 'label': 'LOCATION', 'text': 'Co...</td>\n",
              "      <td>1</td>\n",
              "    </tr>\n",
              "    <tr>\n",
              "      <th>4</th>\n",
              "      <td>The United States ambassador to Mexico , Tony ...</td>\n",
              "      <td>/m/vinci8/data1/riedel/projects/relation/kb/ny...</td>\n",
              "      <td>[{'em1Text': 'Mexico', 'em2Text': 'Nuevo Lared...</td>\n",
              "      <td>[{'start': 0, 'label': 'LOCATION', 'text': 'Un...</td>\n",
              "      <td>1</td>\n",
              "    </tr>\n",
              "    <tr>\n",
              "      <th>...</th>\n",
              "      <td>...</td>\n",
              "      <td>...</td>\n",
              "      <td>...</td>\n",
              "      <td>...</td>\n",
              "      <td>...</td>\n",
              "    </tr>\n",
              "    <tr>\n",
              "      <th>56191</th>\n",
              "      <td>Tanna 's big draw is Mount Yasur , one of the ...</td>\n",
              "      <td>/m/vinci8/data1/riedel/projects/relation/kb/ny...</td>\n",
              "      <td>[{'em1Text': 'Tanna', 'em2Text': 'Mount Yasur'...</td>\n",
              "      <td>[{'start': 0, 'label': 'PERSON', 'text': 'Tann...</td>\n",
              "      <td>2</td>\n",
              "    </tr>\n",
              "    <tr>\n",
              "      <th>56192</th>\n",
              "      <td>We flew Air Pacific -LRB- 800-227-4446 ; www.a...</td>\n",
              "      <td>/m/vinci8/data1/riedel/projects/relation/kb/ny...</td>\n",
              "      <td>[{'em1Text': 'Vanuatu', 'em2Text': 'Port Vila'...</td>\n",
              "      <td>[{'start': 0, 'label': 'ORGANIZATION', 'text':...</td>\n",
              "      <td>3</td>\n",
              "    </tr>\n",
              "    <tr>\n",
              "      <th>56193</th>\n",
              "      <td>I think Westchester is changing , '' said Kenn...</td>\n",
              "      <td>/m/vinci8/data1/riedel/projects/relation/kb/ny...</td>\n",
              "      <td>[{'em1Text': 'Kenneth T. Jackson', 'em2Text': ...</td>\n",
              "      <td>[{'start': 0, 'label': 'PERSON', 'text': 'Kenn...</td>\n",
              "      <td>1</td>\n",
              "    </tr>\n",
              "    <tr>\n",
              "      <th>56194</th>\n",
              "      <td>Here we have a 172-acre island with four-star ...</td>\n",
              "      <td>/m/vinci8/data1/riedel/projects/relation/kb/ny...</td>\n",
              "      <td>[{'em1Text': 'Ellis Island', 'em2Text': 'Manha...</td>\n",
              "      <td>[{'start': 0, 'label': 'LOCATION', 'text': 'Ma...</td>\n",
              "      <td>1</td>\n",
              "    </tr>\n",
              "    <tr>\n",
              "      <th>56195</th>\n",
              "      <td>One was for St. Francis de Sales Roman Catholi...</td>\n",
              "      <td>/m/vinci8/data1/riedel/projects/relation/kb/ny...</td>\n",
              "      <td>[{'em1Text': 'Belle Harbor', 'em2Text': 'Queen...</td>\n",
              "      <td>[{'start': 1, 'label': 'LOCATION', 'text': 'Be...</td>\n",
              "      <td>1</td>\n",
              "    </tr>\n",
              "  </tbody>\n",
              "</table>\n",
              "<p>56196 rows × 5 columns</p>\n",
              "</div>\n",
              "      <button class=\"colab-df-convert\" onclick=\"convertToInteractive('df-10a0240e-256d-4f72-898e-eea3f9474cf9')\"\n",
              "              title=\"Convert this dataframe to an interactive table.\"\n",
              "              style=\"display:none;\">\n",
              "        \n",
              "  <svg xmlns=\"http://www.w3.org/2000/svg\" height=\"24px\"viewBox=\"0 0 24 24\"\n",
              "       width=\"24px\">\n",
              "    <path d=\"M0 0h24v24H0V0z\" fill=\"none\"/>\n",
              "    <path d=\"M18.56 5.44l.94 2.06.94-2.06 2.06-.94-2.06-.94-.94-2.06-.94 2.06-2.06.94zm-11 1L8.5 8.5l.94-2.06 2.06-.94-2.06-.94L8.5 2.5l-.94 2.06-2.06.94zm10 10l.94 2.06.94-2.06 2.06-.94-2.06-.94-.94-2.06-.94 2.06-2.06.94z\"/><path d=\"M17.41 7.96l-1.37-1.37c-.4-.4-.92-.59-1.43-.59-.52 0-1.04.2-1.43.59L10.3 9.45l-7.72 7.72c-.78.78-.78 2.05 0 2.83L4 21.41c.39.39.9.59 1.41.59.51 0 1.02-.2 1.41-.59l7.78-7.78 2.81-2.81c.8-.78.8-2.07 0-2.86zM5.41 20L4 18.59l7.72-7.72 1.47 1.35L5.41 20z\"/>\n",
              "  </svg>\n",
              "      </button>\n",
              "      \n",
              "  <style>\n",
              "    .colab-df-container {\n",
              "      display:flex;\n",
              "      flex-wrap:wrap;\n",
              "      gap: 12px;\n",
              "    }\n",
              "\n",
              "    .colab-df-convert {\n",
              "      background-color: #E8F0FE;\n",
              "      border: none;\n",
              "      border-radius: 50%;\n",
              "      cursor: pointer;\n",
              "      display: none;\n",
              "      fill: #1967D2;\n",
              "      height: 32px;\n",
              "      padding: 0 0 0 0;\n",
              "      width: 32px;\n",
              "    }\n",
              "\n",
              "    .colab-df-convert:hover {\n",
              "      background-color: #E2EBFA;\n",
              "      box-shadow: 0px 1px 2px rgba(60, 64, 67, 0.3), 0px 1px 3px 1px rgba(60, 64, 67, 0.15);\n",
              "      fill: #174EA6;\n",
              "    }\n",
              "\n",
              "    [theme=dark] .colab-df-convert {\n",
              "      background-color: #3B4455;\n",
              "      fill: #D2E3FC;\n",
              "    }\n",
              "\n",
              "    [theme=dark] .colab-df-convert:hover {\n",
              "      background-color: #434B5C;\n",
              "      box-shadow: 0px 1px 3px 1px rgba(0, 0, 0, 0.15);\n",
              "      filter: drop-shadow(0px 1px 2px rgba(0, 0, 0, 0.3));\n",
              "      fill: #FFFFFF;\n",
              "    }\n",
              "  </style>\n",
              "\n",
              "      <script>\n",
              "        const buttonEl =\n",
              "          document.querySelector('#df-10a0240e-256d-4f72-898e-eea3f9474cf9 button.colab-df-convert');\n",
              "        buttonEl.style.display =\n",
              "          google.colab.kernel.accessAllowed ? 'block' : 'none';\n",
              "\n",
              "        async function convertToInteractive(key) {\n",
              "          const element = document.querySelector('#df-10a0240e-256d-4f72-898e-eea3f9474cf9');\n",
              "          const dataTable =\n",
              "            await google.colab.kernel.invokeFunction('convertToInteractive',\n",
              "                                                     [key], {});\n",
              "          if (!dataTable) return;\n",
              "\n",
              "          const docLinkHtml = 'Like what you see? Visit the ' +\n",
              "            '<a target=\"_blank\" href=https://colab.research.google.com/notebooks/data_table.ipynb>data table notebook</a>'\n",
              "            + ' to learn more about interactive tables.';\n",
              "          element.innerHTML = '';\n",
              "          dataTable['output_type'] = 'display_data';\n",
              "          await google.colab.output.renderOutput(dataTable, element);\n",
              "          const docLink = document.createElement('div');\n",
              "          docLink.innerHTML = docLinkHtml;\n",
              "          element.appendChild(docLink);\n",
              "        }\n",
              "      </script>\n",
              "    </div>\n",
              "  </div>\n",
              "  "
            ]
          },
          "metadata": {},
          "execution_count": 5
        }
      ]
    },
    {
      "cell_type": "code",
      "source": [
        "df[\"sentText\"][0]"
      ],
      "metadata": {
        "colab": {
          "base_uri": "https://localhost:8080/",
          "height": 36
        },
        "id": "5SMn75gv3K2L",
        "outputId": "2b010ef5-da6c-44ab-ef9e-b6c8f93e101e"
      },
      "execution_count": null,
      "outputs": [
        {
          "output_type": "execute_result",
          "data": {
            "text/plain": [
              "'Massachusetts ASTON MAGNA Great Barrington ; also at Bard College , Annandale-on-Hudson , N.Y. , July 1-Aug .'"
            ],
            "application/vnd.google.colaboratory.intrinsic+json": {
              "type": "string"
            }
          },
          "metadata": {},
          "execution_count": 9
        }
      ]
    },
    {
      "cell_type": "code",
      "source": [
        "df[\"relationMentions\"][0]"
      ],
      "metadata": {
        "colab": {
          "base_uri": "https://localhost:8080/"
        },
        "id": "agxrTmxW3dRp",
        "outputId": "a35fb46e-48f3-4fe3-e891-6fbb017fd66a"
      },
      "execution_count": null,
      "outputs": [
        {
          "output_type": "execute_result",
          "data": {
            "text/plain": [
              "[{'em1Text': 'Annandale-on-Hudson',\n",
              "  'em2Text': 'Bard College',\n",
              "  'label': '/location/location/contains'}]"
            ]
          },
          "metadata": {},
          "execution_count": 10
        }
      ]
    },
    {
      "cell_type": "markdown",
      "source": [
        "### Label Distribution"
      ],
      "metadata": {
        "id": "0lWaTZLSjYBm"
      }
    },
    {
      "cell_type": "code",
      "source": [
        "import matplotlib.pyplot as plt; plt.rcdefaults()\n",
        "import numpy as np\n",
        "import matplotlib.pyplot as plt"
      ],
      "metadata": {
        "id": "sz6A7bMtkQnr"
      },
      "execution_count": null,
      "outputs": []
    },
    {
      "cell_type": "code",
      "source": [
        "labels = {}\n",
        "\n",
        "for index, row in df.iterrows():\n",
        "  for rel in df[\"relationMentions\"][index]:\n",
        "    ner = rel[\"label\"].split(\"/\")\n",
        "    e1 = ner[1].upper()\n",
        "    e2 = ner[2].upper()\n",
        "\n",
        "    if e1 not in labels:\n",
        "      labels[e1] = 0\n",
        "    else:\n",
        "      labels[e1] += 1\n",
        "\n",
        "    if e2 not in labels:\n",
        "      labels[e2] = 0\n",
        "    else:\n",
        "      labels[e2] += 1\n",
        "\n",
        "print(labels)"
      ],
      "metadata": {
        "colab": {
          "base_uri": "https://localhost:8080/"
        },
        "id": "1JJaYHNdlmHj",
        "outputId": "fa16e342-9f2d-4341-a5ef-af3524bbfb61"
      },
      "execution_count": null,
      "outputs": [
        {
          "output_type": "stream",
          "name": "stdout",
          "text": [
            "{'LOCATION': 114190, 'PEOPLE': 18706, 'PERSON': 21844, 'BUSINESS': 6559, 'ADMINISTRATIVE_DIVISION': 5657, 'COUNTRY': 12375, 'COMPANY': 1360, 'DECEASED_PERSON': 1751, 'NEIGHBORHOOD': 4940, 'ETHNICITY': 59, 'SPORTS': 371, 'SPORTS_TEAM_LOCATION': 185, 'SPORTS_TEAM': 185, 'COMPANY_SHAREHOLDER': 248}\n"
          ]
        }
      ]
    },
    {
      "cell_type": "code",
      "source": [
        "# sort dict\n",
        "sort_labels = dict(reversed(sorted(labels.items(), key=lambda item: item[1])))\n",
        "sort_labels"
      ],
      "metadata": {
        "colab": {
          "base_uri": "https://localhost:8080/"
        },
        "id": "47dNL9UPnV5s",
        "outputId": "45d44e20-c924-4bd6-e5ea-3e27aebe076c"
      },
      "execution_count": null,
      "outputs": [
        {
          "output_type": "execute_result",
          "data": {
            "text/plain": [
              "{'LOCATION': 114190,\n",
              " 'PERSON': 21844,\n",
              " 'PEOPLE': 18706,\n",
              " 'COUNTRY': 12375,\n",
              " 'BUSINESS': 6559,\n",
              " 'ADMINISTRATIVE_DIVISION': 5657,\n",
              " 'NEIGHBORHOOD': 4940,\n",
              " 'DECEASED_PERSON': 1751,\n",
              " 'COMPANY': 1360,\n",
              " 'SPORTS': 371,\n",
              " 'COMPANY_SHAREHOLDER': 248,\n",
              " 'SPORTS_TEAM': 185,\n",
              " 'SPORTS_TEAM_LOCATION': 185,\n",
              " 'ETHNICITY': 59}"
            ]
          },
          "metadata": {},
          "execution_count": 29
        }
      ]
    },
    {
      "cell_type": "code",
      "source": [
        "x_labels = list(sort_labels.keys())\n",
        "y = np.arange(len(x_labels))\n",
        "count = list(sort_labels.values())\n",
        "\n",
        "plt.bar(y, count, align='center', alpha=0.5)\n",
        "plt.xticks(y, x_labels, rotation=30, ha='right')\n",
        "# plt.xticks(rotation=30)\n",
        "plt.ylabel('count')\n",
        "plt.title('NER label distribution')\n",
        "\n",
        "plt.show()"
      ],
      "metadata": {
        "colab": {
          "base_uri": "https://localhost:8080/",
          "height": 543
        },
        "id": "LDOU14eQkwQG",
        "outputId": "5f3b6134-8c62-4ddd-c76b-419fa97da2a9"
      },
      "execution_count": null,
      "outputs": [
        {
          "output_type": "display_data",
          "data": {
            "text/plain": [
              "<Figure size 640x480 with 1 Axes>"
            ],
            "image/png": "[encoded data removed]"
          },
          "metadata": {}
        }
      ]
    },
    {
      "cell_type": "markdown",
      "source": [
        "## 2. Training \n",
        "- [spaCy transformer](https://spacy.io/usage/training) (roberta-base)\n",
        "- best model: 75% F1\n",
        "- F1 = 2 * precision * recall / (precision + recall)\n",
        "- precision = true positive / (true positive + false positive)\n",
        "- recall = true positive / (true positive + false negative)\n",
        "- Loss function: A loss function is a function that compares the target and predicted output values; measures how well the neural network models the training data. When training, we aim to minimize this loss between the predicted and target outputs."
      ],
      "metadata": {
        "id": "pxoaQpIjr5E0"
      }
    },
    {
      "cell_type": "code",
      "source": [
        "%cd /content/drive/MyDrive/REL/"
      ],
      "metadata": {
        "colab": {
          "base_uri": "https://localhost:8080/"
        },
        "id": "c5A37cTvjeZ5",
        "outputId": "c745c942-0975-4e5e-e0b5-56ee7b3d0d59"
      },
      "execution_count": null,
      "outputs": [
        {
          "output_type": "stream",
          "name": "stdout",
          "text": [
            "/content/drive/MyDrive/REL\n"
          ]
        }
      ]
    },
    {
      "cell_type": "code",
      "source": [
        "!pip install spacy[transformers]"
      ],
      "metadata": {
        "colab": {
          "base_uri": "https://localhost:8080/"
        },
        "id": "M_HGPD1glV6b",
        "outputId": "ad376f44-4791-4adb-d6fd-e5753b23560f"
      },
      "execution_count": null,
      "outputs": [
        {
          "output_type": "stream",
          "name": "stdout",
          "text": [
            "Looking in indexes: https://pypi.org/simple, https://us-python.pkg.dev/colab-wheels/public/simple/\n",
            "Requirement already satisfied: spacy[transformers] in /usr/local/lib/python3.7/dist-packages (3.4.3)\n",
            "Requirement already satisfied: thinc<8.2.0,>=8.1.0 in /usr/local/lib/python3.7/dist-packages (from spacy[transformers]) (8.1.5)\n",
            "Requirement already satisfied: pydantic!=1.8,!=1.8.1,<1.11.0,>=1.7.4 in /usr/local/lib/python3.7/dist-packages (from spacy[transformers]) (1.10.2)\n",
            "Requirement already satisfied: numpy>=1.15.0 in /usr/local/lib/python3.7/dist-packages (from spacy[transformers]) (1.21.6)\n",
            "Requirement already satisfied: tqdm<5.0.0,>=4.38.0 in /usr/local/lib/python3.7/dist-packages (from spacy[transformers]) (4.64.1)\n",
            "Requirement already satisfied: requests<3.0.0,>=2.13.0 in /usr/local/lib/python3.7/dist-packages (from spacy[transformers]) (2.23.0)\n",
            "Requirement already satisfied: setuptools in /usr/local/lib/python3.7/dist-packages (from spacy[transformers]) (57.4.0)\n",
            "Requirement already satisfied: wasabi<1.1.0,>=0.9.1 in /usr/local/lib/python3.7/dist-packages (from spacy[transformers]) (0.10.1)\n",
            "Requirement already satisfied: srsly<3.0.0,>=2.4.3 in /usr/local/lib/python3.7/dist-packages (from spacy[transformers]) (2.4.5)\n",
            "Requirement already satisfied: typing-extensions<4.2.0,>=3.7.4 in /usr/local/lib/python3.7/dist-packages (from spacy[transformers]) (4.1.1)\n",
            "Requirement already satisfied: preshed<3.1.0,>=3.0.2 in /usr/local/lib/python3.7/dist-packages (from spacy[transformers]) (3.0.8)\n",
            "Requirement already satisfied: langcodes<4.0.0,>=3.2.0 in /usr/local/lib/python3.7/dist-packages (from spacy[transformers]) (3.3.0)\n",
            "Requirement already satisfied: typer<0.8.0,>=0.3.0 in /usr/local/lib/python3.7/dist-packages (from spacy[transformers]) (0.7.0)\n",
            "Requirement already satisfied: catalogue<2.1.0,>=2.0.6 in /usr/local/lib/python3.7/dist-packages (from spacy[transformers]) (2.0.8)\n",
            "Requirement already satisfied: cymem<2.1.0,>=2.0.2 in /usr/local/lib/python3.7/dist-packages (from spacy[transformers]) (2.0.7)\n",
            "Requirement already satisfied: jinja2 in /usr/local/lib/python3.7/dist-packages (from spacy[transformers]) (2.11.3)\n",
            "Requirement already satisfied: murmurhash<1.1.0,>=0.28.0 in /usr/local/lib/python3.7/dist-packages (from spacy[transformers]) (1.0.9)\n",
            "Requirement already satisfied: pathy>=0.3.5 in /usr/local/lib/python3.7/dist-packages (from spacy[transformers]) (0.8.1)\n",
            "Requirement already satisfied: spacy-legacy<3.1.0,>=3.0.10 in /usr/local/lib/python3.7/dist-packages (from spacy[transformers]) (3.0.10)\n",
            "Requirement already satisfied: spacy-loggers<2.0.0,>=1.0.0 in /usr/local/lib/python3.7/dist-packages (from spacy[transformers]) (1.0.3)\n",
            "Requirement already satisfied: packaging>=20.0 in /usr/local/lib/python3.7/dist-packages (from spacy[transformers]) (21.3)\n",
            "Collecting spacy-transformers<1.2.0,>=1.1.2\n",
            "  Downloading spacy_transformers-1.1.8-py2.py3-none-any.whl (53 kB)\n",
            "\u001b[K     |████████████████████████████████| 53 kB 768 kB/s \n",
            "\u001b[?25hRequirement already satisfied: zipp>=0.5 in /usr/local/lib/python3.7/dist-packages (from catalogue<2.1.0,>=2.0.6->spacy[transformers]) (3.10.0)\n",
            "Requirement already satisfied: pyparsing!=3.0.5,>=2.0.2 in /usr/local/lib/python3.7/dist-packages (from packaging>=20.0->spacy[transformers]) (3.0.9)\n",
            "Requirement already satisfied: smart-open<6.0.0,>=5.2.1 in /usr/local/lib/python3.7/dist-packages (from pathy>=0.3.5->spacy[transformers]) (5.2.1)\n",
            "Requirement already satisfied: urllib3!=1.25.0,!=1.25.1,<1.26,>=1.21.1 in /usr/local/lib/python3.7/dist-packages (from requests<3.0.0,>=2.13.0->spacy[transformers]) (1.24.3)\n",
            "Requirement already satisfied: idna<3,>=2.5 in /usr/local/lib/python3.7/dist-packages (from requests<3.0.0,>=2.13.0->spacy[transformers]) (2.10)\n",
            "Requirement already satisfied: chardet<4,>=3.0.2 in /usr/local/lib/python3.7/dist-packages (from requests<3.0.0,>=2.13.0->spacy[transformers]) (3.0.4)\n",
            "Requirement already satisfied: certifi>=2017.4.17 in /usr/local/lib/python3.7/dist-packages (from requests<3.0.0,>=2.13.0->spacy[transformers]) (2022.9.24)\n",
            "Requirement already satisfied: torch>=1.6.0 in /usr/local/lib/python3.7/dist-packages (from spacy-transformers<1.2.0,>=1.1.2->spacy[transformers]) (1.12.1+cu113)\n",
            "Collecting spacy-alignments<1.0.0,>=0.7.2\n",
            "  Downloading spacy_alignments-0.8.6-cp37-cp37m-manylinux_2_17_x86_64.manylinux2014_x86_64.whl (1.1 MB)\n",
            "\u001b[K     |████████████████████████████████| 1.1 MB 15.0 MB/s \n",
            "\u001b[?25hCollecting transformers<4.22.0,>=3.4.0\n",
            "  Downloading transformers-4.21.3-py3-none-any.whl (4.7 MB)\n",
            "\u001b[K     |████████████████████████████████| 4.7 MB 84.0 MB/s \n",
            "\u001b[?25hRequirement already satisfied: confection<1.0.0,>=0.0.1 in /usr/local/lib/python3.7/dist-packages (from thinc<8.2.0,>=8.1.0->spacy[transformers]) (0.0.3)\n",
            "Requirement already satisfied: blis<0.8.0,>=0.7.8 in /usr/local/lib/python3.7/dist-packages (from thinc<8.2.0,>=8.1.0->spacy[transformers]) (0.7.9)\n",
            "Collecting huggingface-hub<1.0,>=0.1.0\n",
            "  Downloading huggingface_hub-0.11.0-py3-none-any.whl (182 kB)\n",
            "\u001b[K     |████████████████████████████████| 182 kB 87.5 MB/s \n",
            "\u001b[?25hRequirement already satisfied: filelock in /usr/local/lib/python3.7/dist-packages (from transformers<4.22.0,>=3.4.0->spacy-transformers<1.2.0,>=1.1.2->spacy[transformers]) (3.8.0)\n",
            "Requirement already satisfied: pyyaml>=5.1 in /usr/local/lib/python3.7/dist-packages (from transformers<4.22.0,>=3.4.0->spacy-transformers<1.2.0,>=1.1.2->spacy[transformers]) (6.0)\n",
            "Requirement already satisfied: importlib-metadata in /usr/local/lib/python3.7/dist-packages (from transformers<4.22.0,>=3.4.0->spacy-transformers<1.2.0,>=1.1.2->spacy[transformers]) (4.13.0)\n",
            "Requirement already satisfied: regex!=2019.12.17 in /usr/local/lib/python3.7/dist-packages (from transformers<4.22.0,>=3.4.0->spacy-transformers<1.2.0,>=1.1.2->spacy[transformers]) (2022.6.2)\n",
            "Collecting tokenizers!=0.11.3,<0.13,>=0.11.1\n",
            "  Downloading tokenizers-0.12.1-cp37-cp37m-manylinux_2_12_x86_64.manylinux2010_x86_64.whl (6.6 MB)\n",
            "\u001b[K     |████████████████████████████████| 6.6 MB 75.6 MB/s \n",
            "\u001b[?25hRequirement already satisfied: click<9.0.0,>=7.1.1 in /usr/local/lib/python3.7/dist-packages (from typer<0.8.0,>=0.3.0->spacy[transformers]) (7.1.2)\n",
            "Requirement already satisfied: MarkupSafe>=0.23 in /usr/local/lib/python3.7/dist-packages (from jinja2->spacy[transformers]) (2.0.1)\n",
            "Installing collected packages: tokenizers, huggingface-hub, transformers, spacy-alignments, spacy-transformers\n",
            "Successfully installed huggingface-hub-0.11.0 spacy-alignments-0.8.6 spacy-transformers-1.1.8 tokenizers-0.12.1 transformers-4.21.3\n"
          ]
        }
      ]
    },
    {
      "cell_type": "code",
      "source": [
        "# spaCy model setting in config.cfg file\n",
        "!python -m spacy init fill-config base_config.cfg config.cfg"
      ],
      "metadata": {
        "colab": {
          "base_uri": "https://localhost:8080/"
        },
        "id": "gxtkzYZBi0Rg",
        "outputId": "2c2bcdf0-df9b-4428-c378-caa20923fc38"
      },
      "execution_count": null,
      "outputs": [
        {
          "output_type": "stream",
          "name": "stdout",
          "text": [
            "2022-11-22 18:29:48.856009: I tensorflow/core/util/util.cc:169] oneDNN custom operations are on. You may see slightly different numerical results due to floating-point round-off errors from different computation orders. To turn them off, set the environment variable `TF_ENABLE_ONEDNN_OPTS=0`.\n",
            "\u001b[38;5;2m✔ Auto-filled config with all values\u001b[0m\n",
            "\u001b[38;5;2m✔ Saved config\u001b[0m\n",
            "config.cfg\n",
            "You can now add your data and train your pipeline:\n",
            "python -m spacy train config.cfg --paths.train ./train.spacy --paths.dev ./dev.spacy\n"
          ]
        }
      ]
    },
    {
      "cell_type": "code",
      "source": [
        "!python -m spacy train config.cfg --gpu-id 0 --output ./output --paths.train ./nyt_rel/dataset/train_spacy_v2.spacy --paths.dev ./nyt_rel/dataset/valid_spacy_v2.spacy"
      ],
      "metadata": {
        "colab": {
          "base_uri": "https://localhost:8080/"
        },
        "id": "69SsxPU3i1T7",
        "outputId": "7e0fe620-54e8-487c-aae2-7eb9503b2f35"
      },
      "execution_count": null,
      "outputs": [
        {
          "output_type": "stream",
          "name": "stdout",
          "text": [
            "2022-11-22 18:30:28.872830: I tensorflow/core/util/util.cc:169] oneDNN custom operations are on. You may see slightly different numerical results due to floating-point round-off errors from different computation orders. To turn them off, set the environment variable `TF_ENABLE_ONEDNN_OPTS=0`.\n",
            "\u001b[38;5;4mℹ Saving to output directory: output\u001b[0m\n",
            "\u001b[38;5;4mℹ Using GPU: 0\u001b[0m\n",
            "\u001b[1m\n",
            "=========================== Initializing pipeline ===========================\u001b[0m\n",
            "[2022-11-22 18:30:37,891] [INFO] Set up nlp object from config\n",
            "INFO:spacy:Set up nlp object from config\n",
            "[2022-11-22 18:30:37,902] [INFO] Pipeline: ['transformer', 'ner']\n",
            "INFO:spacy:Pipeline: ['transformer', 'ner']\n",
            "[2022-11-22 18:30:37,907] [INFO] Created vocabulary\n",
            "INFO:spacy:Created vocabulary\n",
            "[2022-11-22 18:30:37,908] [INFO] Finished initializing nlp object\n",
            "INFO:spacy:Finished initializing nlp object\n",
            "Downloading pytorch_model.bin: 100% 478M/478M [00:07<00:00, 70.0MB/s]\n",
            "Some weights of the model checkpoint at roberta-base were not used when initializing RobertaModel: ['lm_head.dense.weight', 'lm_head.layer_norm.bias', 'lm_head.decoder.weight', 'lm_head.dense.bias', 'lm_head.bias', 'lm_head.layer_norm.weight']\n",
            "- This IS expected if you are initializing RobertaModel from the checkpoint of a model trained on another task or with another architecture (e.g. initializing a BertForSequenceClassification model from a BertForPreTraining model).\n",
            "- This IS NOT expected if you are initializing RobertaModel from the checkpoint of a model that you expect to be exactly identical (initializing a BertForSequenceClassification model from a BertForSequenceClassification model).\n",
            "tcmalloc: large alloc 1073750016 bytes == 0xf2540000 @  0x7fde851872a4 0x58ead6 0x441ff3 0x5d1f81 0x5d2306 0x58f62c 0x5105e2 0x58fd37 0x50ca37 0x58fd37 0x50ca37 0x4d01b4 0x50cb8d 0x4d01b4 0x50cb8d 0x4d01b4 0x7fdd307597c6 0x4ba72b 0x7fdd30757ce3 0x4ba72b 0x7fdd303c0075 0x7fde72fb3bb9 0x4d32c7 0x591e56 0x50e18c 0x5b575e 0x58ff2e 0x50d482 0x5b575e 0x58ff2e 0x50d482\n",
            "[2022-11-22 18:32:16,985] [INFO] Initialized pipeline components: ['transformer', 'ner']\n",
            "INFO:spacy:Initialized pipeline components: ['transformer', 'ner']\n",
            "\u001b[38;5;2m✔ Initialized pipeline\u001b[0m\n",
            "\u001b[1m\n",
            "============================= Training pipeline =============================\u001b[0m\n",
            "\u001b[38;5;4mℹ Pipeline: ['transformer', 'ner']\u001b[0m\n",
            "\u001b[38;5;4mℹ Initial learn rate: 0.0\u001b[0m\n",
            "E    #       LOSS TRANS...  LOSS NER  ENTS_F  ENTS_P  ENTS_R  SCORE \n",
            "---  ------  -------------  --------  ------  ------  ------  ------\n",
            "  0       0         187.19     50.64    1.49    1.19    1.99    0.01\n",
            "  0     200      145210.14  50701.52   67.29   67.11   67.47    0.67\n",
            "  0     400        8236.92  14999.68   70.29   68.64   72.03    0.70\n",
            "  0     600        7565.41  14043.10   73.04   65.51   82.52    0.73\n",
            "  0     800        7202.25  13669.89   71.74   74.77   68.95    0.72\n",
            "  0    1000        6799.95  13081.07   70.49   77.82   64.43    0.70\n",
            "  0    1200        6431.35  12611.78   74.18   73.40   74.97    0.74\n",
            "  0    1400        6472.99  12750.47   74.72   67.02   84.42    0.75\n",
            "  0    1600        6232.91  12430.08   73.24   76.80   70.00    0.73\n",
            "  0    1800        6078.90  12170.76   74.85   74.01   75.71    0.75\n",
            "  0    2000        5928.41  12121.89   75.23   73.27   77.29    0.75\n",
            "  0    2200        5824.59  12031.35   74.25   76.36   72.25    0.74\n",
            "  0    2400        5774.08  11969.35   74.17   75.90   72.51    0.74\n",
            "  0    2600        5540.29  11613.69   75.10   74.57   75.64    0.75\n",
            "  0    2800        5499.95  11571.30   74.23   76.62   71.99    0.74\n",
            "  0    3000        5400.57  11543.79   75.37   69.36   82.52    0.75\n",
            "  0    3200        5268.70  11381.21   74.91   76.53   73.35    0.75\n",
            "  0    3400        5294.23  11494.41   74.29   76.42   72.28    0.74\n",
            "\n",
            "Aborted!\n"
          ]
        }
      ]
    },
    {
      "cell_type": "code",
      "source": [],
      "metadata": {
        "id": "1K8hq-gCi1WR"
      },
      "execution_count": null,
      "outputs": []
    }
  ]
}
