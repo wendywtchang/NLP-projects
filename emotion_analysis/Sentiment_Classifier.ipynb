{
  "cells": [
    {
      "cell_type": "markdown",
      "metadata": {
        "id": "view-in-github",
        "colab_type": "text"
      },
      "source": [
        "<a href=\"https://colab.research.google.com/github/wendywtchang/NLP-projects/blob/master/emotion_analysis/Sentiment_Classifier.ipynb\" target=\"_parent\"><img src=\"https://colab.research.google.com/assets/colab-badge.svg\" alt=\"Open In Colab\"/></a>"
      ]
    },
    {
      "cell_type": "markdown",
      "metadata": {
        "id": "RRK9Kjdvc48Q"
      },
      "source": [
        "# Sentiment Classifier\n",
        "- Dataset: [A Multimodal Multi-Party Dataset for Emotion Recognition in Conversation (MELD)](https://github.com/declare-lab/MELD)\n",
        "- Friends TV series\n",
        "- Seven emotions: <br>\n",
        "Anger, Disgust, Fear, Joy, Sadness, Surprise, Neutral <br>\n",
        "= Elman emotions + Neutral\n",
        "- train / dev / test: 9989 / 1109 / 2610\n",
        "- Model: LSTM\n",
        "- Library: Tensorflow / Keras\n",
        "\n",
        "# Result\n",
        "- Evaluation metric: F1-measure\n",
        "- Training Epoch: 30\n",
        "- The validation loss decrease until 5 epoch (val\\_loss = 1.3743, F1 = 24.4%), while the best F1 achieve 26% at 28th epoch.\n",
        "- 100 epoch do not fix the suffering f1 problem and validation loss keep increasing.\n",
        "\n",
        "# Furture TODO\n",
        "- fix visualization\n",
        "- add callback\n",
        "- optimization, use pretrained model, BiLSTM etc."
      ]
    },
    {
      "cell_type": "markdown",
      "metadata": {
        "id": "f3dEcAWeeKlf"
      },
      "source": [
        "## 1. Load Dataset"
      ]
    },
    {
      "cell_type": "code",
      "execution_count": 1,
      "metadata": {
        "colab": {
          "base_uri": "https://localhost:8080/"
        },
        "id": "AZT-1D1TbB09",
        "outputId": "1c6dbf21-459c-4a1e-d330-d482a6464644"
      },
      "outputs": [
        {
          "output_type": "stream",
          "name": "stdout",
          "text": [
            "Drive already mounted at /content/drive; to attempt to forcibly remount, call drive.mount(\"/content/drive\", force_remount=True).\n"
          ]
        }
      ],
      "source": [
        "from google.colab import drive\n",
        "drive.mount('/content/drive')"
      ]
    },
    {
      "cell_type": "code",
      "execution_count": 2,
      "metadata": {
        "colab": {
          "base_uri": "https://localhost:8080/"
        },
        "id": "G7WxznaBbR6P",
        "outputId": "cf6f2052-8f34-4516-fe79-b1d55ceefcc5"
      },
      "outputs": [
        {
          "output_type": "stream",
          "name": "stdout",
          "text": [
            "/content/drive/MyDrive/Sentiment/MELD/data/MELD\n",
            "total 5330\n",
            "-rw------- 1 root 3921408 Feb  9 21:41 datasets.yaml\n",
            "-rw------- 1 root  121640 Feb  9 21:41 dev_sent_emo.csv\n",
            "-rw------- 1 root  294526 Feb  9 21:41 test_sent_emo.csv\n",
            "-rw------- 1 root 1119290 Feb  9 21:41 train_sent_emo.csv\n"
          ]
        }
      ],
      "source": [
        "%cd /content/drive/MyDrive/Sentiment/MELD/data/MELD\n",
        "%ll"
      ]
    },
    {
      "cell_type": "code",
      "execution_count": 3,
      "metadata": {
        "id": "Kp7qIM1KbtMF"
      },
      "outputs": [],
      "source": [
        "import pandas as pd\n",
        "import numpy as np"
      ]
    },
    {
      "cell_type": "code",
      "execution_count": 4,
      "metadata": {
        "id": "8N5DCPRLb30H"
      },
      "outputs": [],
      "source": [
        "df_train = pd.read_csv('train_sent_emo.csv')\n",
        "df_dev = pd.read_csv('dev_sent_emo.csv')\n",
        "df_test = pd.read_csv('test_sent_emo.csv')"
      ]
    },
    {
      "cell_type": "code",
      "execution_count": 5,
      "metadata": {
        "colab": {
          "base_uri": "https://localhost:8080/"
        },
        "id": "fLBotlTGfu1X",
        "outputId": "1289cd3b-f986-4338-9dcd-fcb95ec589b6"
      },
      "outputs": [
        {
          "output_type": "stream",
          "name": "stdout",
          "text": [
            "9989 1109 2610\n"
          ]
        }
      ],
      "source": [
        "print(len(df_train), len(df_dev), len(df_test))"
      ]
    },
    {
      "cell_type": "code",
      "execution_count": 6,
      "metadata": {
        "colab": {
          "base_uri": "https://localhost:8080/",
          "height": 589
        },
        "id": "payY8S__b9vm",
        "outputId": "810e350b-cac7-4c0b-931d-c628d643ad3d"
      },
      "outputs": [
        {
          "output_type": "execute_result",
          "data": {
            "text/html": [
              "\n",
              "  <div id=\"df-9f299d23-0ca9-40c8-bd33-b12bbb5951c5\">\n",
              "    <div class=\"colab-df-container\">\n",
              "      <div>\n",
              "<style scoped>\n",
              "    .dataframe tbody tr th:only-of-type {\n",
              "        vertical-align: middle;\n",
              "    }\n",
              "\n",
              "    .dataframe tbody tr th {\n",
              "        vertical-align: top;\n",
              "    }\n",
              "\n",
              "    .dataframe thead th {\n",
              "        text-align: right;\n",
              "    }\n",
              "</style>\n",
              "<table border=\"1\" class=\"dataframe\">\n",
              "  <thead>\n",
              "    <tr style=\"text-align: right;\">\n",
              "      <th></th>\n",
              "      <th>Sr No.</th>\n",
              "      <th>Utterance</th>\n",
              "      <th>Speaker</th>\n",
              "      <th>Emotion</th>\n",
              "      <th>Sentiment</th>\n",
              "      <th>Dialogue_ID</th>\n",
              "      <th>Utterance_ID</th>\n",
              "      <th>Season</th>\n",
              "      <th>Episode</th>\n",
              "      <th>StartTime</th>\n",
              "      <th>EndTime</th>\n",
              "    </tr>\n",
              "  </thead>\n",
              "  <tbody>\n",
              "    <tr>\n",
              "      <th>0</th>\n",
              "      <td>1</td>\n",
              "      <td>also I was the point person on my company’s tr...</td>\n",
              "      <td>Chandler</td>\n",
              "      <td>neutral</td>\n",
              "      <td>neutral</td>\n",
              "      <td>0</td>\n",
              "      <td>0</td>\n",
              "      <td>8</td>\n",
              "      <td>21</td>\n",
              "      <td>00:16:16,059</td>\n",
              "      <td>00:16:21,731</td>\n",
              "    </tr>\n",
              "    <tr>\n",
              "      <th>1</th>\n",
              "      <td>2</td>\n",
              "      <td>You must’ve had your hands full.</td>\n",
              "      <td>The Interviewer</td>\n",
              "      <td>neutral</td>\n",
              "      <td>neutral</td>\n",
              "      <td>0</td>\n",
              "      <td>1</td>\n",
              "      <td>8</td>\n",
              "      <td>21</td>\n",
              "      <td>00:16:21,940</td>\n",
              "      <td>00:16:23,442</td>\n",
              "    </tr>\n",
              "    <tr>\n",
              "      <th>2</th>\n",
              "      <td>3</td>\n",
              "      <td>That I did. That I did.</td>\n",
              "      <td>Chandler</td>\n",
              "      <td>neutral</td>\n",
              "      <td>neutral</td>\n",
              "      <td>0</td>\n",
              "      <td>2</td>\n",
              "      <td>8</td>\n",
              "      <td>21</td>\n",
              "      <td>00:16:23,442</td>\n",
              "      <td>00:16:26,389</td>\n",
              "    </tr>\n",
              "    <tr>\n",
              "      <th>3</th>\n",
              "      <td>4</td>\n",
              "      <td>So let’s talk a little bit about your duties.</td>\n",
              "      <td>The Interviewer</td>\n",
              "      <td>neutral</td>\n",
              "      <td>neutral</td>\n",
              "      <td>0</td>\n",
              "      <td>3</td>\n",
              "      <td>8</td>\n",
              "      <td>21</td>\n",
              "      <td>00:16:26,820</td>\n",
              "      <td>00:16:29,572</td>\n",
              "    </tr>\n",
              "    <tr>\n",
              "      <th>4</th>\n",
              "      <td>5</td>\n",
              "      <td>My duties?  All right.</td>\n",
              "      <td>Chandler</td>\n",
              "      <td>surprise</td>\n",
              "      <td>positive</td>\n",
              "      <td>0</td>\n",
              "      <td>4</td>\n",
              "      <td>8</td>\n",
              "      <td>21</td>\n",
              "      <td>00:16:34,452</td>\n",
              "      <td>00:16:40,917</td>\n",
              "    </tr>\n",
              "    <tr>\n",
              "      <th>...</th>\n",
              "      <td>...</td>\n",
              "      <td>...</td>\n",
              "      <td>...</td>\n",
              "      <td>...</td>\n",
              "      <td>...</td>\n",
              "      <td>...</td>\n",
              "      <td>...</td>\n",
              "      <td>...</td>\n",
              "      <td>...</td>\n",
              "      <td>...</td>\n",
              "      <td>...</td>\n",
              "    </tr>\n",
              "    <tr>\n",
              "      <th>9984</th>\n",
              "      <td>10474</td>\n",
              "      <td>You or me?</td>\n",
              "      <td>Chandler</td>\n",
              "      <td>neutral</td>\n",
              "      <td>neutral</td>\n",
              "      <td>1038</td>\n",
              "      <td>13</td>\n",
              "      <td>2</td>\n",
              "      <td>3</td>\n",
              "      <td>00:00:48,173</td>\n",
              "      <td>00:00:50,799</td>\n",
              "    </tr>\n",
              "    <tr>\n",
              "      <th>9985</th>\n",
              "      <td>10475</td>\n",
              "      <td>I got it. Uh, Joey, women don't have Adam's ap...</td>\n",
              "      <td>Ross</td>\n",
              "      <td>neutral</td>\n",
              "      <td>neutral</td>\n",
              "      <td>1038</td>\n",
              "      <td>14</td>\n",
              "      <td>2</td>\n",
              "      <td>3</td>\n",
              "      <td>00:00:51,009</td>\n",
              "      <td>00:00:53,594</td>\n",
              "    </tr>\n",
              "    <tr>\n",
              "      <th>9986</th>\n",
              "      <td>10476</td>\n",
              "      <td>You guys are messing with me, right?</td>\n",
              "      <td>Joey</td>\n",
              "      <td>surprise</td>\n",
              "      <td>positive</td>\n",
              "      <td>1038</td>\n",
              "      <td>15</td>\n",
              "      <td>2</td>\n",
              "      <td>3</td>\n",
              "      <td>00:01:00,518</td>\n",
              "      <td>00:01:03,520</td>\n",
              "    </tr>\n",
              "    <tr>\n",
              "      <th>9987</th>\n",
              "      <td>10477</td>\n",
              "      <td>Yeah.</td>\n",
              "      <td>All</td>\n",
              "      <td>neutral</td>\n",
              "      <td>neutral</td>\n",
              "      <td>1038</td>\n",
              "      <td>16</td>\n",
              "      <td>2</td>\n",
              "      <td>3</td>\n",
              "      <td>00:01:05,398</td>\n",
              "      <td>00:01:07,274</td>\n",
              "    </tr>\n",
              "    <tr>\n",
              "      <th>9988</th>\n",
              "      <td>10478</td>\n",
              "      <td>That was a good one. For a second there, I was...</td>\n",
              "      <td>Joey</td>\n",
              "      <td>joy</td>\n",
              "      <td>positive</td>\n",
              "      <td>1038</td>\n",
              "      <td>17</td>\n",
              "      <td>2</td>\n",
              "      <td>3</td>\n",
              "      <td>00:01:08,401</td>\n",
              "      <td>00:01:12,071</td>\n",
              "    </tr>\n",
              "  </tbody>\n",
              "</table>\n",
              "<p>9989 rows × 11 columns</p>\n",
              "</div>\n",
              "      <button class=\"colab-df-convert\" onclick=\"convertToInteractive('df-9f299d23-0ca9-40c8-bd33-b12bbb5951c5')\"\n",
              "              title=\"Convert this dataframe to an interactive table.\"\n",
              "              style=\"display:none;\">\n",
              "        \n",
              "  <svg xmlns=\"http://www.w3.org/2000/svg\" height=\"24px\"viewBox=\"0 0 24 24\"\n",
              "       width=\"24px\">\n",
              "    <path d=\"M0 0h24v24H0V0z\" fill=\"none\"/>\n",
              "    <path d=\"M18.56 5.44l.94 2.06.94-2.06 2.06-.94-2.06-.94-.94-2.06-.94 2.06-2.06.94zm-11 1L8.5 8.5l.94-2.06 2.06-.94-2.06-.94L8.5 2.5l-.94 2.06-2.06.94zm10 10l.94 2.06.94-2.06 2.06-.94-2.06-.94-.94-2.06-.94 2.06-2.06.94z\"/><path d=\"M17.41 7.96l-1.37-1.37c-.4-.4-.92-.59-1.43-.59-.52 0-1.04.2-1.43.59L10.3 9.45l-7.72 7.72c-.78.78-.78 2.05 0 2.83L4 21.41c.39.39.9.59 1.41.59.51 0 1.02-.2 1.41-.59l7.78-7.78 2.81-2.81c.8-.78.8-2.07 0-2.86zM5.41 20L4 18.59l7.72-7.72 1.47 1.35L5.41 20z\"/>\n",
              "  </svg>\n",
              "      </button>\n",
              "      \n",
              "  <style>\n",
              "    .colab-df-container {\n",
              "      display:flex;\n",
              "      flex-wrap:wrap;\n",
              "      gap: 12px;\n",
              "    }\n",
              "\n",
              "    .colab-df-convert {\n",
              "      background-color: #E8F0FE;\n",
              "      border: none;\n",
              "      border-radius: 50%;\n",
              "      cursor: pointer;\n",
              "      display: none;\n",
              "      fill: #1967D2;\n",
              "      height: 32px;\n",
              "      padding: 0 0 0 0;\n",
              "      width: 32px;\n",
              "    }\n",
              "\n",
              "    .colab-df-convert:hover {\n",
              "      background-color: #E2EBFA;\n",
              "      box-shadow: 0px 1px 2px rgba(60, 64, 67, 0.3), 0px 1px 3px 1px rgba(60, 64, 67, 0.15);\n",
              "      fill: #174EA6;\n",
              "    }\n",
              "\n",
              "    [theme=dark] .colab-df-convert {\n",
              "      background-color: #3B4455;\n",
              "      fill: #D2E3FC;\n",
              "    }\n",
              "\n",
              "    [theme=dark] .colab-df-convert:hover {\n",
              "      background-color: #434B5C;\n",
              "      box-shadow: 0px 1px 3px 1px rgba(0, 0, 0, 0.15);\n",
              "      filter: drop-shadow(0px 1px 2px rgba(0, 0, 0, 0.3));\n",
              "      fill: #FFFFFF;\n",
              "    }\n",
              "  </style>\n",
              "\n",
              "      <script>\n",
              "        const buttonEl =\n",
              "          document.querySelector('#df-9f299d23-0ca9-40c8-bd33-b12bbb5951c5 button.colab-df-convert');\n",
              "        buttonEl.style.display =\n",
              "          google.colab.kernel.accessAllowed ? 'block' : 'none';\n",
              "\n",
              "        async function convertToInteractive(key) {\n",
              "          const element = document.querySelector('#df-9f299d23-0ca9-40c8-bd33-b12bbb5951c5');\n",
              "          const dataTable =\n",
              "            await google.colab.kernel.invokeFunction('convertToInteractive',\n",
              "                                                     [key], {});\n",
              "          if (!dataTable) return;\n",
              "\n",
              "          const docLinkHtml = 'Like what you see? Visit the ' +\n",
              "            '<a target=\"_blank\" href=https://colab.research.google.com/notebooks/data_table.ipynb>data table notebook</a>'\n",
              "            + ' to learn more about interactive tables.';\n",
              "          element.innerHTML = '';\n",
              "          dataTable['output_type'] = 'display_data';\n",
              "          await google.colab.output.renderOutput(dataTable, element);\n",
              "          const docLink = document.createElement('div');\n",
              "          docLink.innerHTML = docLinkHtml;\n",
              "          element.appendChild(docLink);\n",
              "        }\n",
              "      </script>\n",
              "    </div>\n",
              "  </div>\n",
              "  "
            ],
            "text/plain": [
              "      Sr No.  ...       EndTime\n",
              "0          1  ...  00:16:21,731\n",
              "1          2  ...  00:16:23,442\n",
              "2          3  ...  00:16:26,389\n",
              "3          4  ...  00:16:29,572\n",
              "4          5  ...  00:16:40,917\n",
              "...      ...  ...           ...\n",
              "9984   10474  ...  00:00:50,799\n",
              "9985   10475  ...  00:00:53,594\n",
              "9986   10476  ...  00:01:03,520\n",
              "9987   10477  ...  00:01:07,274\n",
              "9988   10478  ...  00:01:12,071\n",
              "\n",
              "[9989 rows x 11 columns]"
            ]
          },
          "metadata": {},
          "execution_count": 6
        }
      ],
      "source": [
        "df_train"
      ]
    },
    {
      "cell_type": "markdown",
      "metadata": {
        "id": "H7N7HFdQlZor"
      },
      "source": [
        "### 1.1 create train / dev / test sentences and labels"
      ]
    },
    {
      "cell_type": "code",
      "execution_count": 7,
      "metadata": {
        "id": "HflozzTocDow"
      },
      "outputs": [],
      "source": [
        "# create train, dev, test sentences\n",
        "train_sentences = df_train['Utterance'].tolist()\n",
        "dev_sentences = df_dev['Utterance'].tolist()\n",
        "test_sentences = df_test['Utterance'].tolist()\n",
        "\n",
        "# create train, dev, test raw labels\n",
        "train_labels_raw = df_train['Emotion'].tolist()\n",
        "dev_labels_raw = df_dev['Emotion'].tolist()\n",
        "test_labels_raw = df_test['Emotion'].tolist()"
      ]
    },
    {
      "cell_type": "code",
      "execution_count": 8,
      "metadata": {
        "colab": {
          "base_uri": "https://localhost:8080/"
        },
        "id": "JIC47P8jgPbj",
        "outputId": "91c8e617-fa65-4d63-b29f-25252a93e9a2"
      },
      "outputs": [
        {
          "output_type": "execute_result",
          "data": {
            "text/plain": [
              "{'anger': 4,\n",
              " 'disgust': 3,\n",
              " 'fear': 6,\n",
              " 'joy': 5,\n",
              " 'neutral': 1,\n",
              " 'sadness': 0,\n",
              " 'surprise': 2}"
            ]
          },
          "metadata": {},
          "execution_count": 8
        }
      ],
      "source": [
        "# create 7 emotions dictrionary\n",
        "emo_dict = {}\n",
        "\n",
        "for emo in enumerate(set(train_labels_raw)):\n",
        "  # print(emo)\n",
        "  emo_dict[emo[1]] = emo[0]\n",
        "\n",
        "emo_dict"
      ]
    },
    {
      "cell_type": "code",
      "execution_count": 9,
      "metadata": {
        "id": "ozcP3ugugPg0"
      },
      "outputs": [],
      "source": [
        "# Helper function for cleaning labels\n",
        "def clean_labels(labels_raw, df):\n",
        "  labels = []\n",
        "  label = np.zeros((7,), dtype=int)\n",
        "  # print(labels_raw[:3])\n",
        "  for tag in labels_raw:\n",
        "    try:\n",
        "      label[emo_dict[tag]] = 1\n",
        "      labels.append(label)\n",
        "      label = np.zeros((7,), dtype=int)\n",
        "    except:\n",
        "      # print(tag)\n",
        "      pass\n",
        "  assert len(labels) == len(df)\n",
        "  return labels"
      ]
    },
    {
      "cell_type": "code",
      "execution_count": 10,
      "metadata": {
        "colab": {
          "base_uri": "https://localhost:8080/"
        },
        "id": "cd6SSFqQj6Cu",
        "outputId": "c883a8fe-c3c5-4bb8-db82-8962f691383b"
      },
      "outputs": [
        {
          "output_type": "execute_result",
          "data": {
            "text/plain": [
              "[array([0, 1, 0, 0, 0, 0, 0]),\n",
              " array([0, 1, 0, 0, 0, 0, 0]),\n",
              " array([0, 1, 0, 0, 0, 0, 0]),\n",
              " array([0, 1, 0, 0, 0, 0, 0]),\n",
              " array([0, 0, 1, 0, 0, 0, 0]),\n",
              " array([0, 1, 0, 0, 0, 0, 0]),\n",
              " array([0, 1, 0, 0, 0, 0, 0]),\n",
              " array([0, 1, 0, 0, 0, 0, 0]),\n",
              " array([0, 1, 0, 0, 0, 0, 0]),\n",
              " array([0, 1, 0, 0, 0, 0, 0])]"
            ]
          },
          "metadata": {},
          "execution_count": 10
        }
      ],
      "source": [
        "# train\n",
        "labels_raw = train_labels_raw\n",
        "df =  df_train\n",
        "train_labels = clean_labels(labels_raw, df)\n",
        "train_labels[:10]"
      ]
    },
    {
      "cell_type": "code",
      "execution_count": 11,
      "metadata": {
        "colab": {
          "base_uri": "https://localhost:8080/"
        },
        "id": "TS4ilxBVk4pg",
        "outputId": "e292025f-923c-4478-ae79-61285a787ca5"
      },
      "outputs": [
        {
          "output_type": "execute_result",
          "data": {
            "text/plain": [
              "[array([1, 0, 0, 0, 0, 0, 0]),\n",
              " array([0, 0, 1, 0, 0, 0, 0]),\n",
              " array([0, 1, 0, 0, 0, 0, 0]),\n",
              " array([0, 0, 0, 0, 0, 1, 0]),\n",
              " array([1, 0, 0, 0, 0, 0, 0]),\n",
              " array([0, 1, 0, 0, 0, 0, 0]),\n",
              " array([0, 1, 0, 0, 0, 0, 0]),\n",
              " array([0, 0, 0, 0, 0, 1, 0]),\n",
              " array([0, 1, 0, 0, 0, 0, 0]),\n",
              " array([0, 0, 1, 0, 0, 0, 0])]"
            ]
          },
          "metadata": {},
          "execution_count": 11
        }
      ],
      "source": [
        "# dev\n",
        "labels_raw = dev_labels_raw\n",
        "df =  df_dev\n",
        "dev_labels = clean_labels(labels_raw, df)\n",
        "dev_labels[:10]"
      ]
    },
    {
      "cell_type": "code",
      "execution_count": 12,
      "metadata": {
        "colab": {
          "base_uri": "https://localhost:8080/"
        },
        "id": "36w6TzUvk4tA",
        "outputId": "2673b0fa-4cab-4ddd-f481-3f48db87d5e1"
      },
      "outputs": [
        {
          "output_type": "execute_result",
          "data": {
            "text/plain": [
              "[array([0, 0, 1, 0, 0, 0, 0]),\n",
              " array([0, 0, 0, 0, 1, 0, 0]),\n",
              " array([0, 1, 0, 0, 0, 0, 0]),\n",
              " array([0, 1, 0, 0, 0, 0, 0]),\n",
              " array([0, 0, 0, 0, 0, 1, 0]),\n",
              " array([0, 0, 0, 0, 0, 1, 0]),\n",
              " array([0, 0, 0, 0, 0, 1, 0]),\n",
              " array([0, 0, 0, 0, 0, 1, 0]),\n",
              " array([0, 0, 0, 0, 0, 1, 0]),\n",
              " array([0, 0, 0, 0, 0, 1, 0])]"
            ]
          },
          "metadata": {},
          "execution_count": 12
        }
      ],
      "source": [
        "# test\n",
        "labels_raw = test_labels_raw\n",
        "df =  df_test\n",
        "test_labels = clean_labels(labels_raw, df)\n",
        "test_labels[:10]"
      ]
    },
    {
      "cell_type": "code",
      "execution_count": 13,
      "metadata": {
        "id": "QVlMjOXOky6P"
      },
      "outputs": [],
      "source": [
        "# Make labels into numpy arrays for use with the network later\n",
        "train_labels_final = np.array(train_labels)\n",
        "dev_labels_final = np.array(dev_labels)\n",
        "test_labels_final = np.array(test_labels)"
      ]
    },
    {
      "cell_type": "code",
      "execution_count": 14,
      "metadata": {
        "colab": {
          "base_uri": "https://localhost:8080/"
        },
        "id": "MF0wHMVElN4E",
        "outputId": "b8079ddf-b90b-4aa9-a48f-cb3caacf3101"
      },
      "outputs": [
        {
          "output_type": "execute_result",
          "data": {
            "text/plain": [
              "array([0, 1, 0, 0, 0, 0, 0])"
            ]
          },
          "metadata": {},
          "execution_count": 14
        }
      ],
      "source": [
        "train_labels_final[0]"
      ]
    },
    {
      "cell_type": "markdown",
      "metadata": {
        "id": "diH6zYgFlpKl"
      },
      "source": [
        "### 1.2 Tokenization"
      ]
    },
    {
      "cell_type": "code",
      "execution_count": 15,
      "metadata": {
        "colab": {
          "base_uri": "https://localhost:8080/"
        },
        "id": "o-mYj8Kkm6au",
        "outputId": "3313f9bc-172b-483a-ca9c-5216ace3fb88"
      },
      "outputs": [
        {
          "output_type": "execute_result",
          "data": {
            "text/plain": [
              "69"
            ]
          },
          "metadata": {},
          "execution_count": 15
        }
      ],
      "source": [
        "# Calculate max sentence length\n",
        "max_length = 0\n",
        "for sent in train_sentences:\n",
        "  if len(sent.split()) > max_length:\n",
        "    max_length = len(sent.split())\n",
        "max_length"
      ]
    },
    {
      "cell_type": "code",
      "execution_count": 16,
      "metadata": {
        "id": "zBYeXcu5lx3j"
      },
      "outputs": [],
      "source": [
        "vocab_size = 1000\n",
        "embedding_dim = 16\n",
        "max_length = 80\n",
        "trunc_type='post'\n",
        "padding_type='post'\n",
        "oov_tok = \"<OOV>\"\n",
        "\n",
        "\n",
        "from tensorflow.keras.preprocessing.text import Tokenizer\n",
        "from tensorflow.keras.preprocessing.sequence import pad_sequences\n",
        "\n",
        "tokenizer = Tokenizer(num_words = vocab_size, oov_token=oov_tok)\n",
        "tokenizer.fit_on_texts(train_sentences)\n",
        "word_index = tokenizer.word_index\n",
        "\n",
        "# train\n",
        "sequences = tokenizer.texts_to_sequences(train_sentences)\n",
        "padded = pad_sequences(sequences,maxlen=max_length, padding=padding_type, \n",
        "                       truncating=trunc_type)\n",
        "\n",
        "# dev\n",
        "dev_sequences = tokenizer.texts_to_sequences(dev_sentences)\n",
        "dev_padded = pad_sequences(dev_sequences,maxlen=max_length, \n",
        "                               padding=padding_type, truncating=trunc_type)\n",
        "\n",
        "# test\n",
        "test_sequences = tokenizer.texts_to_sequences(test_sentences)\n",
        "test_padded = pad_sequences(test_sequences,maxlen=max_length, \n",
        "                               padding=padding_type, truncating=trunc_type)"
      ]
    },
    {
      "cell_type": "code",
      "execution_count": 17,
      "metadata": {
        "colab": {
          "base_uri": "https://localhost:8080/"
        },
        "id": "LdgyUCz0lx5_",
        "outputId": "74cb9283-a51f-4db7-cc79-241ec9dceb6e"
      },
      "outputs": [
        {
          "output_type": "stream",
          "name": "stdout",
          "text": [
            "also i was the point person on my <OOV> <OOV> from the <OOV> <OOV> to <OOV> 6 system ? ? ? ? ? ? ? ? ? ? ? ? ? ? ? ? ? ? ? ? ? ? ? ? ? ? ? ? ? ? ? ? ? ? ? ? ? ? ? ? ? ? ? ? ? ? ? ? ? ? ? ? ? ? ? ? ? ? ? ? ? ?\n",
            "also I was the point person on my company’s transition from the KL-5 to GR-6 system.\n"
          ]
        }
      ],
      "source": [
        "# review a sequence\n",
        "reverse_word_index = dict([(value, key) for (key, value) in word_index.items()])\n",
        "\n",
        "def decode_review(text):\n",
        "    return ' '.join([reverse_word_index.get(i, '?') for i in text])\n",
        "\n",
        "print(decode_review(padded[0]))\n",
        "print(train_sentences[0])"
      ]
    },
    {
      "cell_type": "code",
      "execution_count": 17,
      "metadata": {
        "id": "eu4sof_Jlx8c"
      },
      "outputs": [],
      "source": [
        ""
      ]
    },
    {
      "cell_type": "markdown",
      "metadata": {
        "id": "caggJK91eapI"
      },
      "source": [
        "## Create LSTM Model"
      ]
    },
    {
      "cell_type": "code",
      "execution_count": 20,
      "metadata": {
        "colab": {
          "base_uri": "https://localhost:8080/"
        },
        "id": "7GRHgpsluMpw",
        "outputId": "84ecacb7-3e84-430a-abc1-bc0cbbbb37ea"
      },
      "outputs": [
        {
          "output_type": "stream",
          "name": "stdout",
          "text": [
            "Requirement already satisfied: tensorflow_addons in /usr/local/lib/python3.7/dist-packages (0.15.0)\n",
            "Requirement already satisfied: typeguard>=2.7 in /usr/local/lib/python3.7/dist-packages (from tensorflow_addons) (2.7.1)\n"
          ]
        }
      ],
      "source": [
        "# Load tensorflow_addons for F1 score\n",
        "!pip install tensorflow_addons"
      ]
    },
    {
      "cell_type": "code",
      "execution_count": 21,
      "metadata": {
        "id": "1IEZEv7SegSH"
      },
      "outputs": [],
      "source": [
        "# import tensorflow + related functions\n",
        "import tensorflow as tf\n",
        "from tensorflow.keras.preprocessing.text import Tokenizer\n",
        "from tensorflow.keras.preprocessing.sequence import pad_sequences\n",
        "\n",
        "import tensorflow_addons as tfa"
      ]
    },
    {
      "cell_type": "code",
      "execution_count": 22,
      "metadata": {
        "colab": {
          "base_uri": "https://localhost:8080/"
        },
        "id": "eG0FXhDrvJyu",
        "outputId": "53e3dd74-1263-4733-db7c-b4ec6eff8ed6"
      },
      "outputs": [
        {
          "output_type": "stream",
          "name": "stdout",
          "text": [
            "Model: \"sequential\"\n",
            "_________________________________________________________________\n",
            " Layer (type)                Output Shape              Param #   \n",
            "=================================================================\n",
            " embedding (Embedding)       (None, 80, 16)            16000     \n",
            "                                                                 \n",
            " bidirectional (Bidirectiona  (None, 32)               4224      \n",
            " l)                                                              \n",
            "                                                                 \n",
            " dense (Dense)               (None, 16)                528       \n",
            "                                                                 \n",
            " dense_1 (Dense)             (None, 7)                 119       \n",
            "                                                                 \n",
            "=================================================================\n",
            "Total params: 20,871\n",
            "Trainable params: 20,871\n",
            "Non-trainable params: 0\n",
            "_________________________________________________________________\n"
          ]
        }
      ],
      "source": [
        "model = tf.keras.Sequential([\n",
        "    # Add an Embedding layer expecting input vocab of size 5000, and output embedding dimension of size 64 we set at the top\n",
        "    tf.keras.layers.Embedding(vocab_size, embedding_dim, input_length=max_length),\n",
        "    tf.keras.layers.Bidirectional(tf.keras.layers.LSTM(embedding_dim)),\n",
        "    # tf.keras.layers.Bidirectional(tf.keras.layers.LSTM(32)),\n",
        "    # use ReLU in place of tanh function since they are very good alternatives of each other.\n",
        "    tf.keras.layers.Dense(embedding_dim, activation='relu'),\n",
        "    # Add a Dense layer with 6 units and softmax activation.\n",
        "    # When we have multiple outputs, softmax convert outputs layers into a probability distribution.\n",
        "    tf.keras.layers.Dense(7, activation='softmax')\n",
        "])\n",
        "model.compile(loss='CategoricalCrossentropy',optimizer='adam',metrics=['accuracy', tfa.metrics.F1Score(num_classes=7)])\n",
        "# not SparseCategoricalCrossentropy\n",
        "model.summary()"
      ]
    },
    {
      "cell_type": "markdown",
      "metadata": {
        "id": "SASgE5g3ehOg"
      },
      "source": [
        "## Train"
      ]
    },
    {
      "cell_type": "code",
      "execution_count": 24,
      "metadata": {
        "colab": {
          "base_uri": "https://localhost:8080/"
        },
        "id": "qXtkq7J7eifg",
        "outputId": "327f8ad4-fe26-4ffa-e5cd-88aa85538e9e"
      },
      "outputs": [
        {
          "output_type": "stream",
          "name": "stdout",
          "text": [
            "Epoch 1/30\n",
            "313/313 [==============================] - 10s 19ms/step - loss: 1.5882 - accuracy: 0.4686 - f1_score: 0.0928 - val_loss: 1.5027 - val_accuracy: 0.4812 - val_f1_score: 0.0928\n",
            "Epoch 2/30\n",
            "313/313 [==============================] - 5s 15ms/step - loss: 1.4504 - accuracy: 0.4918 - f1_score: 0.1416 - val_loss: 1.4193 - val_accuracy: 0.5004 - val_f1_score: 0.1506\n",
            "Epoch 3/30\n",
            "313/313 [==============================] - 5s 17ms/step - loss: 1.3602 - accuracy: 0.5189 - f1_score: 0.2002 - val_loss: 1.3944 - val_accuracy: 0.5119 - val_f1_score: 0.1988\n",
            "Epoch 4/30\n",
            "313/313 [==============================] - 5s 16ms/step - loss: 1.3049 - accuracy: 0.5413 - f1_score: 0.2397 - val_loss: 1.3805 - val_accuracy: 0.5065 - val_f1_score: 0.2122\n",
            "Epoch 5/30\n",
            "313/313 [==============================] - 3s 11ms/step - loss: 1.2701 - accuracy: 0.5506 - f1_score: 0.2651 - val_loss: 1.3743 - val_accuracy: 0.5146 - val_f1_score: 0.2440\n",
            "Epoch 6/30\n",
            "313/313 [==============================] - 3s 10ms/step - loss: 1.2409 - accuracy: 0.5678 - f1_score: 0.2974 - val_loss: 1.3963 - val_accuracy: 0.5096 - val_f1_score: 0.2457\n",
            "Epoch 7/30\n",
            "313/313 [==============================] - 3s 10ms/step - loss: 1.2216 - accuracy: 0.5738 - f1_score: 0.3135 - val_loss: 1.3978 - val_accuracy: 0.5088 - val_f1_score: 0.2428\n",
            "Epoch 8/30\n",
            "313/313 [==============================] - 5s 15ms/step - loss: 1.2080 - accuracy: 0.5774 - f1_score: 0.3196 - val_loss: 1.4292 - val_accuracy: 0.4831 - val_f1_score: 0.2516\n",
            "Epoch 9/30\n",
            "313/313 [==============================] - 3s 10ms/step - loss: 1.1931 - accuracy: 0.5851 - f1_score: 0.3294 - val_loss: 1.4148 - val_accuracy: 0.5073 - val_f1_score: 0.2481\n",
            "Epoch 10/30\n",
            "313/313 [==============================] - 3s 10ms/step - loss: 1.1804 - accuracy: 0.5883 - f1_score: 0.3347 - val_loss: 1.4326 - val_accuracy: 0.4985 - val_f1_score: 0.2533\n",
            "Epoch 11/30\n",
            "313/313 [==============================] - 3s 10ms/step - loss: 1.1721 - accuracy: 0.5928 - f1_score: 0.3419 - val_loss: 1.4315 - val_accuracy: 0.4962 - val_f1_score: 0.2496\n",
            "Epoch 12/30\n",
            "313/313 [==============================] - 5s 18ms/step - loss: 1.1561 - accuracy: 0.5979 - f1_score: 0.3489 - val_loss: 1.4599 - val_accuracy: 0.5092 - val_f1_score: 0.2429\n",
            "Epoch 13/30\n",
            "313/313 [==============================] - 5s 18ms/step - loss: 1.1461 - accuracy: 0.6024 - f1_score: 0.3536 - val_loss: 1.4762 - val_accuracy: 0.5096 - val_f1_score: 0.2418\n",
            "Epoch 14/30\n",
            "313/313 [==============================] - 6s 18ms/step - loss: 1.1355 - accuracy: 0.6028 - f1_score: 0.3544 - val_loss: 1.4530 - val_accuracy: 0.4682 - val_f1_score: 0.2627\n",
            "Epoch 15/30\n",
            "313/313 [==============================] - 3s 10ms/step - loss: 1.1224 - accuracy: 0.6087 - f1_score: 0.3622 - val_loss: 1.4820 - val_accuracy: 0.4839 - val_f1_score: 0.2451\n",
            "Epoch 16/30\n",
            "313/313 [==============================] - 3s 10ms/step - loss: 1.1133 - accuracy: 0.6150 - f1_score: 0.3693 - val_loss: 1.4944 - val_accuracy: 0.4751 - val_f1_score: 0.2498\n",
            "Epoch 17/30\n",
            "313/313 [==============================] - 3s 10ms/step - loss: 1.1032 - accuracy: 0.6187 - f1_score: 0.3735 - val_loss: 1.4960 - val_accuracy: 0.4831 - val_f1_score: 0.2537\n",
            "Epoch 18/30\n",
            "313/313 [==============================] - 3s 10ms/step - loss: 1.0897 - accuracy: 0.6245 - f1_score: 0.3791 - val_loss: 1.5137 - val_accuracy: 0.4766 - val_f1_score: 0.2569\n",
            "Epoch 19/30\n",
            "313/313 [==============================] - 3s 10ms/step - loss: 1.0830 - accuracy: 0.6245 - f1_score: 0.3818 - val_loss: 1.5322 - val_accuracy: 0.4762 - val_f1_score: 0.2555\n",
            "Epoch 20/30\n",
            "313/313 [==============================] - 3s 10ms/step - loss: 1.0684 - accuracy: 0.6315 - f1_score: 0.3891 - val_loss: 1.5561 - val_accuracy: 0.4808 - val_f1_score: 0.2520\n",
            "Epoch 21/30\n",
            "313/313 [==============================] - 3s 10ms/step - loss: 1.0568 - accuracy: 0.6375 - f1_score: 0.3940 - val_loss: 1.5379 - val_accuracy: 0.4693 - val_f1_score: 0.2568\n",
            "Epoch 22/30\n",
            "313/313 [==============================] - 3s 10ms/step - loss: 1.0471 - accuracy: 0.6408 - f1_score: 0.3996 - val_loss: 1.5688 - val_accuracy: 0.4824 - val_f1_score: 0.2609\n",
            "Epoch 23/30\n",
            "313/313 [==============================] - 4s 12ms/step - loss: 1.0358 - accuracy: 0.6439 - f1_score: 0.4028 - val_loss: 1.5770 - val_accuracy: 0.4705 - val_f1_score: 0.2514\n",
            "Epoch 24/30\n",
            "313/313 [==============================] - 4s 12ms/step - loss: 1.0275 - accuracy: 0.6489 - f1_score: 0.4086 - val_loss: 1.5910 - val_accuracy: 0.4920 - val_f1_score: 0.2561\n",
            "Epoch 25/30\n",
            "313/313 [==============================] - 4s 14ms/step - loss: 1.0145 - accuracy: 0.6553 - f1_score: 0.4164 - val_loss: 1.6340 - val_accuracy: 0.4621 - val_f1_score: 0.2488\n",
            "Epoch 26/30\n",
            "313/313 [==============================] - 4s 12ms/step - loss: 1.0029 - accuracy: 0.6609 - f1_score: 0.4201 - val_loss: 1.6044 - val_accuracy: 0.4751 - val_f1_score: 0.2566\n",
            "Epoch 27/30\n",
            "313/313 [==============================] - 4s 13ms/step - loss: 0.9942 - accuracy: 0.6636 - f1_score: 0.4243 - val_loss: 1.6423 - val_accuracy: 0.4609 - val_f1_score: 0.2477\n",
            "Epoch 28/30\n",
            "313/313 [==============================] - 4s 13ms/step - loss: 0.9840 - accuracy: 0.6692 - f1_score: 0.4301 - val_loss: 1.6431 - val_accuracy: 0.4648 - val_f1_score: 0.2612\n",
            "Epoch 29/30\n",
            "313/313 [==============================] - 4s 14ms/step - loss: 0.9739 - accuracy: 0.6721 - f1_score: 0.4319 - val_loss: 1.6282 - val_accuracy: 0.4782 - val_f1_score: 0.2540\n",
            "Epoch 30/30\n",
            "313/313 [==============================] - 3s 10ms/step - loss: 0.9638 - accuracy: 0.6780 - f1_score: 0.4393 - val_loss: 1.6813 - val_accuracy: 0.4736 - val_f1_score: 0.2541\n"
          ]
        }
      ],
      "source": [
        "num_epochs = 30\n",
        "history =model.fit(padded, train_labels_final, epochs=num_epochs, validation_data=(test_padded, test_labels_final))"
      ]
    },
    {
      "cell_type": "markdown",
      "metadata": {
        "id": "y75sfRRYemN_"
      },
      "source": [
        "## Visualization"
      ]
    },
    {
      "cell_type": "code",
      "execution_count": 25,
      "metadata": {
        "colab": {
          "base_uri": "https://localhost:8080/",
          "height": 541
        },
        "id": "kC4xuWBLeljH",
        "outputId": "b3775b22-3424-472a-db99-be9b2b820e60"
      },
      "outputs": [
        {
          "output_type": "display_data",
          "data": {
            "image/png": "[encoded data removed]",
            "text/plain": [
              "<Figure size 432x288 with 1 Axes>"
            ]
          },
          "metadata": {
            "needs_background": "light"
          }
        },
        {
          "output_type": "display_data",
          "data": {
            "image/png": "[encoded data removed]",
            "text/plain": [
              "<Figure size 432x288 with 1 Axes>"
            ]
          },
          "metadata": {
            "needs_background": "light"
          }
        }
      ],
      "source": [
        "import matplotlib.pyplot as plt\n",
        "\n",
        "def plot_graphs(history, string):\n",
        "  plt.plot(history.history[string])\n",
        "  plt.plot(history.history['val_'+string])\n",
        "  plt.xlabel(\"Epochs\")\n",
        "  plt.ylabel(string)\n",
        "  plt.legend([string, 'val_'+string])\n",
        "  plt.show()\n",
        "  \n",
        "plot_graphs(history, \"f1_score\")\n",
        "plot_graphs(history, \"loss\")"
      ]
    },
    {
      "cell_type": "code",
      "execution_count": 25,
      "metadata": {
        "id": "aRWHNSfSenan"
      },
      "outputs": [],
      "source": [
        ""
      ]
    }
  ],
  "metadata": {
    "colab": {
      "collapsed_sections": [
        "f3dEcAWeeKlf"
      ],
      "name": "Sentiment_Classifier.ipynb",
      "provenance": [],
      "authorship_tag": "ABX9TyMj2nBQf53rv/AdwjD22O3G",
      "include_colab_link": true
    },
    "kernelspec": {
      "display_name": "Python 3",
      "name": "python3"
    },
    "language_info": {
      "name": "python"
    },
    "accelerator": "GPU"
  },
  "nbformat": 4,
  "nbformat_minor": 0
}