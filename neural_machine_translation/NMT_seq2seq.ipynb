{
  "nbformat": 4,
  "nbformat_minor": 0,
  "metadata": {
    "colab": {
      "name": "NMT_seq2seq.ipynb",
      "provenance": [],
      "collapsed_sections": [],
      "authorship_tag": "ABX9TyOMzIupwKh7ZQlCYTvJIDR9",
      "include_colab_link": true
    },
    "kernelspec": {
      "name": "python3",
      "display_name": "Python 3"
    },
    "language_info": {
      "name": "python"
    },
    "accelerator": "GPU"
  },
  "cells": [
    {
      "cell_type": "markdown",
      "metadata": {
        "id": "view-in-github",
        "colab_type": "text"
      },
      "source": [
        "<a href=\"https://colab.research.google.com/github/wendywtchang/NLP-projects/blob/master/neural_machine_translation/NMT_seq2seq.ipynb\" target=\"_parent\"><img src=\"https://colab.research.google.com/assets/colab-badge.svg\" alt=\"Open In Colab\"/></a>"
      ]
    },
    {
      "cell_type": "markdown",
      "source": [
        "# Neural Machine Translation\n",
        "- Dataset: [Multi30k](https://aclanthology.org/W16-3210.pdf): Multi30K - Multilingual English-German Image Descriptions\n",
        "- Task: Translate German to English\n",
        "- Model: Sequence to sequence model, two LSTM as encoder and decoder.\n",
        "- Library: torch==1.7.1\n",
        "- Epoch: 50\n",
        "- Results: Bleu score 18.04\n",
        "- Demo Translation:\n",
        "    - German sentence: <br> \"meine schwester hat einen roten schal in einem geschäft in der nähe gekauft\"\n",
        "    - Gold English Translation: <br> \"my sister bought a red scarf in a store near the park\"\n",
        "    - Predicted Translation: <br> \"['a', 'things', 'player', 'has', 'a', 'red', 'umbrella', 'in', 'a', 'foreign', 'country', '.', '<eos>']\"\n",
        "\n",
        "  <!-- 2. \n",
        "    - German sentence: <br> \"du hast doch einen vogel\"\n",
        "    - Gold English Translation: <br> \"you have a bird / you're crazy\"\n",
        "    - Predicted Translation: <br> -->\n",
        "\n",
        "\n",
        "- Optimization:\n",
        "  - Attention, transformer?\n",
        "  - Small resource language dataset?"
      ],
      "metadata": {
        "id": "LvDwLQah5BZR"
      }
    },
    {
      "cell_type": "code",
      "execution_count": 1,
      "metadata": {
        "colab": {
          "base_uri": "https://localhost:8080/"
        },
        "id": "F9TGRaW7oP8G",
        "outputId": "cde85e8a-5c25-4979-9a6b-b8c648bc77e4"
      },
      "outputs": [
        {
          "output_type": "stream",
          "name": "stdout",
          "text": [
            "Drive already mounted at /content/drive; to attempt to forcibly remount, call drive.mount(\"/content/drive\", force_remount=True).\n",
            "/content/drive/MyDrive/NMT\n",
            "total 443909\n",
            "-rw------- 1 root    101852 Feb  9 20:34  C4_W1_Assignment.ipynb\n",
            "-rw------- 1 root    245033 Feb  9 20:34  fine-tune-hugging-face-translation-model.ipynb\n",
            "-rw------- 1 root     51412 Feb  9 21:37 'Fine-tuning a pretrained model (official doc).ipynb'\n",
            "-rw------- 1 root     13583 Feb 10 23:12 'Migrate torchtext from the legacy API to the new API'\n",
            "-rw------- 1 root 453867789 Feb 10 23:39  my_checkpoint.pth.tar\n",
            "-rw------- 1 root     56937 Feb  9 20:34  Neural_Machine_Translation.ipynb\n",
            "-rw------- 1 root    166460 Feb  9 20:34  NMT_keras.ipynb\n",
            "-rw------- 1 root     26976 Feb 10 23:39  NMT_seq2seq.ipynb\n",
            "-rw------- 1 root       569 Feb  9 20:51  NMT_transformer.ipynb\n",
            "drwx------ 2 root      4096 Feb 10 23:12  \u001b[0m\u001b[01;34m__pycache__\u001b[0m/\n",
            "drwx------ 3 root      4096 Feb 10 19:52  \u001b[01;34mruns\u001b[0m/\n",
            "-rw------- 1 root     10043 Feb 10 22:56  seq2seq_model.py\n",
            "-rw------- 1 root      8242 Feb 10 23:10  seq2seq_model_v1.7.py\n",
            "-rw------- 1 root      2512 Feb 10 20:25  utils.py\n"
          ]
        }
      ],
      "source": [
        "# Log in\n",
        "from google.colab import drive\n",
        "drive.mount('/content/drive')\n",
        "\n",
        "%cd /content/drive/MyDrive/NMT\n",
        "%ll"
      ]
    },
    {
      "cell_type": "code",
      "source": [
        "!python -m spacy download de_core_news_sm"
      ],
      "metadata": {
        "colab": {
          "base_uri": "https://localhost:8080/"
        },
        "id": "48NZYx61r4XT",
        "outputId": "34b6afac-8cba-4aa6-b361-1ed8699908f9"
      },
      "execution_count": 2,
      "outputs": [
        {
          "output_type": "stream",
          "name": "stdout",
          "text": [
            "Collecting de_core_news_sm==2.2.5\n",
            "  Downloading https://github.com/explosion/spacy-models/releases/download/de_core_news_sm-2.2.5/de_core_news_sm-2.2.5.tar.gz (14.9 MB)\n",
            "\u001b[K     |████████████████████████████████| 14.9 MB 7.2 MB/s \n",
            "\u001b[?25hRequirement already satisfied: spacy>=2.2.2 in /usr/local/lib/python3.7/dist-packages (from de_core_news_sm==2.2.5) (2.2.4)\n",
            "Requirement already satisfied: thinc==7.4.0 in /usr/local/lib/python3.7/dist-packages (from spacy>=2.2.2->de_core_news_sm==2.2.5) (7.4.0)\n",
            "Requirement already satisfied: wasabi<1.1.0,>=0.4.0 in /usr/local/lib/python3.7/dist-packages (from spacy>=2.2.2->de_core_news_sm==2.2.5) (0.9.0)\n",
            "Requirement already satisfied: catalogue<1.1.0,>=0.0.7 in /usr/local/lib/python3.7/dist-packages (from spacy>=2.2.2->de_core_news_sm==2.2.5) (1.0.0)\n",
            "Requirement already satisfied: tqdm<5.0.0,>=4.38.0 in /usr/local/lib/python3.7/dist-packages (from spacy>=2.2.2->de_core_news_sm==2.2.5) (4.62.3)\n",
            "Requirement already satisfied: preshed<3.1.0,>=3.0.2 in /usr/local/lib/python3.7/dist-packages (from spacy>=2.2.2->de_core_news_sm==2.2.5) (3.0.6)\n",
            "Requirement already satisfied: murmurhash<1.1.0,>=0.28.0 in /usr/local/lib/python3.7/dist-packages (from spacy>=2.2.2->de_core_news_sm==2.2.5) (1.0.6)\n",
            "Requirement already satisfied: blis<0.5.0,>=0.4.0 in /usr/local/lib/python3.7/dist-packages (from spacy>=2.2.2->de_core_news_sm==2.2.5) (0.4.1)\n",
            "Requirement already satisfied: cymem<2.1.0,>=2.0.2 in /usr/local/lib/python3.7/dist-packages (from spacy>=2.2.2->de_core_news_sm==2.2.5) (2.0.6)\n",
            "Requirement already satisfied: plac<1.2.0,>=0.9.6 in /usr/local/lib/python3.7/dist-packages (from spacy>=2.2.2->de_core_news_sm==2.2.5) (1.1.3)\n",
            "Requirement already satisfied: requests<3.0.0,>=2.13.0 in /usr/local/lib/python3.7/dist-packages (from spacy>=2.2.2->de_core_news_sm==2.2.5) (2.23.0)\n",
            "Requirement already satisfied: srsly<1.1.0,>=1.0.2 in /usr/local/lib/python3.7/dist-packages (from spacy>=2.2.2->de_core_news_sm==2.2.5) (1.0.5)\n",
            "Requirement already satisfied: numpy>=1.15.0 in /usr/local/lib/python3.7/dist-packages (from spacy>=2.2.2->de_core_news_sm==2.2.5) (1.19.5)\n",
            "Requirement already satisfied: setuptools in /usr/local/lib/python3.7/dist-packages (from spacy>=2.2.2->de_core_news_sm==2.2.5) (57.4.0)\n",
            "Requirement already satisfied: importlib-metadata>=0.20 in /usr/local/lib/python3.7/dist-packages (from catalogue<1.1.0,>=0.0.7->spacy>=2.2.2->de_core_news_sm==2.2.5) (4.10.1)\n",
            "Requirement already satisfied: zipp>=0.5 in /usr/local/lib/python3.7/dist-packages (from importlib-metadata>=0.20->catalogue<1.1.0,>=0.0.7->spacy>=2.2.2->de_core_news_sm==2.2.5) (3.7.0)\n",
            "Requirement already satisfied: typing-extensions>=3.6.4 in /usr/local/lib/python3.7/dist-packages (from importlib-metadata>=0.20->catalogue<1.1.0,>=0.0.7->spacy>=2.2.2->de_core_news_sm==2.2.5) (3.10.0.2)\n",
            "Requirement already satisfied: idna<3,>=2.5 in /usr/local/lib/python3.7/dist-packages (from requests<3.0.0,>=2.13.0->spacy>=2.2.2->de_core_news_sm==2.2.5) (2.10)\n",
            "Requirement already satisfied: urllib3!=1.25.0,!=1.25.1,<1.26,>=1.21.1 in /usr/local/lib/python3.7/dist-packages (from requests<3.0.0,>=2.13.0->spacy>=2.2.2->de_core_news_sm==2.2.5) (1.24.3)\n",
            "Requirement already satisfied: certifi>=2017.4.17 in /usr/local/lib/python3.7/dist-packages (from requests<3.0.0,>=2.13.0->spacy>=2.2.2->de_core_news_sm==2.2.5) (2021.10.8)\n",
            "Requirement already satisfied: chardet<4,>=3.0.2 in /usr/local/lib/python3.7/dist-packages (from requests<3.0.0,>=2.13.0->spacy>=2.2.2->de_core_news_sm==2.2.5) (3.0.4)\n",
            "\u001b[38;5;2m✔ Download and installation successful\u001b[0m\n",
            "You can now load the model via spacy.load('de_core_news_sm')\n"
          ]
        }
      ]
    },
    {
      "cell_type": "code",
      "source": [
        "!python -m spacy download en_core_web_sm"
      ],
      "metadata": {
        "colab": {
          "base_uri": "https://localhost:8080/"
        },
        "id": "9PiZCGq7r6uH",
        "outputId": "2f12ab19-8eb3-46e4-c5d8-3cc655cbda6c"
      },
      "execution_count": 3,
      "outputs": [
        {
          "output_type": "stream",
          "name": "stdout",
          "text": [
            "Collecting en_core_web_sm==2.2.5\n",
            "  Downloading https://github.com/explosion/spacy-models/releases/download/en_core_web_sm-2.2.5/en_core_web_sm-2.2.5.tar.gz (12.0 MB)\n",
            "\u001b[K     |████████████████████████████████| 12.0 MB 8.7 MB/s \n",
            "\u001b[?25hRequirement already satisfied: spacy>=2.2.2 in /usr/local/lib/python3.7/dist-packages (from en_core_web_sm==2.2.5) (2.2.4)\n",
            "Requirement already satisfied: tqdm<5.0.0,>=4.38.0 in /usr/local/lib/python3.7/dist-packages (from spacy>=2.2.2->en_core_web_sm==2.2.5) (4.62.3)\n",
            "Requirement already satisfied: requests<3.0.0,>=2.13.0 in /usr/local/lib/python3.7/dist-packages (from spacy>=2.2.2->en_core_web_sm==2.2.5) (2.23.0)\n",
            "Requirement already satisfied: cymem<2.1.0,>=2.0.2 in /usr/local/lib/python3.7/dist-packages (from spacy>=2.2.2->en_core_web_sm==2.2.5) (2.0.6)\n",
            "Requirement already satisfied: thinc==7.4.0 in /usr/local/lib/python3.7/dist-packages (from spacy>=2.2.2->en_core_web_sm==2.2.5) (7.4.0)\n",
            "Requirement already satisfied: wasabi<1.1.0,>=0.4.0 in /usr/local/lib/python3.7/dist-packages (from spacy>=2.2.2->en_core_web_sm==2.2.5) (0.9.0)\n",
            "Requirement already satisfied: murmurhash<1.1.0,>=0.28.0 in /usr/local/lib/python3.7/dist-packages (from spacy>=2.2.2->en_core_web_sm==2.2.5) (1.0.6)\n",
            "Requirement already satisfied: srsly<1.1.0,>=1.0.2 in /usr/local/lib/python3.7/dist-packages (from spacy>=2.2.2->en_core_web_sm==2.2.5) (1.0.5)\n",
            "Requirement already satisfied: setuptools in /usr/local/lib/python3.7/dist-packages (from spacy>=2.2.2->en_core_web_sm==2.2.5) (57.4.0)\n",
            "Requirement already satisfied: plac<1.2.0,>=0.9.6 in /usr/local/lib/python3.7/dist-packages (from spacy>=2.2.2->en_core_web_sm==2.2.5) (1.1.3)\n",
            "Requirement already satisfied: preshed<3.1.0,>=3.0.2 in /usr/local/lib/python3.7/dist-packages (from spacy>=2.2.2->en_core_web_sm==2.2.5) (3.0.6)\n",
            "Requirement already satisfied: catalogue<1.1.0,>=0.0.7 in /usr/local/lib/python3.7/dist-packages (from spacy>=2.2.2->en_core_web_sm==2.2.5) (1.0.0)\n",
            "Requirement already satisfied: blis<0.5.0,>=0.4.0 in /usr/local/lib/python3.7/dist-packages (from spacy>=2.2.2->en_core_web_sm==2.2.5) (0.4.1)\n",
            "Requirement already satisfied: numpy>=1.15.0 in /usr/local/lib/python3.7/dist-packages (from spacy>=2.2.2->en_core_web_sm==2.2.5) (1.19.5)\n",
            "Requirement already satisfied: importlib-metadata>=0.20 in /usr/local/lib/python3.7/dist-packages (from catalogue<1.1.0,>=0.0.7->spacy>=2.2.2->en_core_web_sm==2.2.5) (4.10.1)\n",
            "Requirement already satisfied: zipp>=0.5 in /usr/local/lib/python3.7/dist-packages (from importlib-metadata>=0.20->catalogue<1.1.0,>=0.0.7->spacy>=2.2.2->en_core_web_sm==2.2.5) (3.7.0)\n",
            "Requirement already satisfied: typing-extensions>=3.6.4 in /usr/local/lib/python3.7/dist-packages (from importlib-metadata>=0.20->catalogue<1.1.0,>=0.0.7->spacy>=2.2.2->en_core_web_sm==2.2.5) (3.10.0.2)\n",
            "Requirement already satisfied: urllib3!=1.25.0,!=1.25.1,<1.26,>=1.21.1 in /usr/local/lib/python3.7/dist-packages (from requests<3.0.0,>=2.13.0->spacy>=2.2.2->en_core_web_sm==2.2.5) (1.24.3)\n",
            "Requirement already satisfied: certifi>=2017.4.17 in /usr/local/lib/python3.7/dist-packages (from requests<3.0.0,>=2.13.0->spacy>=2.2.2->en_core_web_sm==2.2.5) (2021.10.8)\n",
            "Requirement already satisfied: chardet<4,>=3.0.2 in /usr/local/lib/python3.7/dist-packages (from requests<3.0.0,>=2.13.0->spacy>=2.2.2->en_core_web_sm==2.2.5) (3.0.4)\n",
            "Requirement already satisfied: idna<3,>=2.5 in /usr/local/lib/python3.7/dist-packages (from requests<3.0.0,>=2.13.0->spacy>=2.2.2->en_core_web_sm==2.2.5) (2.10)\n",
            "\u001b[38;5;2m✔ Download and installation successful\u001b[0m\n",
            "You can now load the model via spacy.load('en_core_web_sm')\n"
          ]
        }
      ]
    },
    {
      "cell_type": "code",
      "source": [
        "!pip uninstall torch"
      ],
      "metadata": {
        "colab": {
          "base_uri": "https://localhost:8080/"
        },
        "id": "C7jNIFJUycQ8",
        "outputId": "acbbb50d-ba2d-4922-9b40-1b39b44361ba"
      },
      "execution_count": 4,
      "outputs": [
        {
          "output_type": "stream",
          "name": "stdout",
          "text": [
            "Found existing installation: torch 1.7.1\n",
            "Uninstalling torch-1.7.1:\n",
            "  Would remove:\n",
            "    /usr/local/bin/convert-caffe2-to-onnx\n",
            "    /usr/local/bin/convert-onnx-to-caffe2\n",
            "    /usr/local/lib/python3.7/dist-packages/caffe2/*\n",
            "    /usr/local/lib/python3.7/dist-packages/torch-1.7.1.dist-info/*\n",
            "    /usr/local/lib/python3.7/dist-packages/torch/*\n",
            "Proceed (y/n)? n\n"
          ]
        }
      ]
    },
    {
      "cell_type": "code",
      "source": [
        "pip install torch==1.7.1 "
      ],
      "metadata": {
        "colab": {
          "base_uri": "https://localhost:8080/"
        },
        "id": "rtDU2jXOyoal",
        "outputId": "28720392-fdf5-440f-b6a8-df7fca3731d3"
      },
      "execution_count": 5,
      "outputs": [
        {
          "output_type": "stream",
          "name": "stdout",
          "text": [
            "Requirement already satisfied: torch==1.7.1 in /usr/local/lib/python3.7/dist-packages (1.7.1)\n",
            "Requirement already satisfied: numpy in /usr/local/lib/python3.7/dist-packages (from torch==1.7.1) (1.19.5)\n",
            "Requirement already satisfied: typing-extensions in /usr/local/lib/python3.7/dist-packages (from torch==1.7.1) (3.10.0.2)\n"
          ]
        }
      ]
    },
    {
      "cell_type": "code",
      "source": [
        "import torch\n",
        "print(torch.__version__)"
      ],
      "metadata": {
        "colab": {
          "base_uri": "https://localhost:8080/"
        },
        "id": "K2VpzdMGxopW",
        "outputId": "4e944e04-f607-46cf-b720-e6faa7e64918"
      },
      "execution_count": 6,
      "outputs": [
        {
          "output_type": "stream",
          "name": "stdout",
          "text": [
            "1.7.1\n"
          ]
        }
      ]
    },
    {
      "cell_type": "code",
      "source": [
        "# %ll"
      ],
      "metadata": {
        "id": "Z_SfjKuHz2GI"
      },
      "execution_count": 7,
      "outputs": []
    },
    {
      "cell_type": "code",
      "source": [
        "!pip install torchtext==0.6.0"
      ],
      "metadata": {
        "colab": {
          "base_uri": "https://localhost:8080/"
        },
        "id": "CSnjxoJo1_F-",
        "outputId": "9c9b8ce1-85d8-434d-a605-9a4410637c4a"
      },
      "execution_count": 8,
      "outputs": [
        {
          "output_type": "stream",
          "name": "stdout",
          "text": [
            "Requirement already satisfied: torchtext==0.6.0 in /usr/local/lib/python3.7/dist-packages (0.6.0)\n",
            "Requirement already satisfied: six in /usr/local/lib/python3.7/dist-packages (from torchtext==0.6.0) (1.15.0)\n",
            "Requirement already satisfied: tqdm in /usr/local/lib/python3.7/dist-packages (from torchtext==0.6.0) (4.62.3)\n",
            "Requirement already satisfied: sentencepiece in /usr/local/lib/python3.7/dist-packages (from torchtext==0.6.0) (0.1.96)\n",
            "Requirement already satisfied: requests in /usr/local/lib/python3.7/dist-packages (from torchtext==0.6.0) (2.23.0)\n",
            "Requirement already satisfied: torch in /usr/local/lib/python3.7/dist-packages (from torchtext==0.6.0) (1.7.1)\n",
            "Requirement already satisfied: numpy in /usr/local/lib/python3.7/dist-packages (from torchtext==0.6.0) (1.19.5)\n",
            "Requirement already satisfied: chardet<4,>=3.0.2 in /usr/local/lib/python3.7/dist-packages (from requests->torchtext==0.6.0) (3.0.4)\n",
            "Requirement already satisfied: idna<3,>=2.5 in /usr/local/lib/python3.7/dist-packages (from requests->torchtext==0.6.0) (2.10)\n",
            "Requirement already satisfied: urllib3!=1.25.0,!=1.25.1,<1.26,>=1.21.1 in /usr/local/lib/python3.7/dist-packages (from requests->torchtext==0.6.0) (1.24.3)\n",
            "Requirement already satisfied: certifi>=2017.4.17 in /usr/local/lib/python3.7/dist-packages (from requests->torchtext==0.6.0) (2021.10.8)\n",
            "Requirement already satisfied: typing-extensions in /usr/local/lib/python3.7/dist-packages (from torch->torchtext==0.6.0) (3.10.0.2)\n"
          ]
        }
      ]
    },
    {
      "cell_type": "code",
      "source": [
        "!python seq2seq_model_v1.7.py"
      ],
      "metadata": {
        "colab": {
          "base_uri": "https://localhost:8080/"
        },
        "id": "JKDVv4BjhoR-",
        "outputId": "ce2227e4-759b-4680-ccaf-81738461f698"
      },
      "execution_count": 9,
      "outputs": [
        {
          "output_type": "stream",
          "name": "stdout",
          "text": [
            "[Epoch 0 / 50]\n",
            "=> Saving checkpoint\n",
            "Translated example sentence: \n",
            " ['notebook', 'net', 'net', 'for', 'overcast', 'plain', 'banner', 'ceremony', 'ceremony', 'headgear', 'waterskier', 'rusted', 'waterskier', 'toothbrush', 'waterskier', 'toothbrush', 'kneeling', 'kneeling', 'colourful', 'newborn', 'oar', 'toys', 'motorbikes', 'racers', 'racers', 'candlelight', 'mate', 'mate', 'net', 'riot', 'net', 'shadows', 'machinery', 'steal', 'steal', 'baskets', 'baskets', 'baskets', 'splits', 'net', 'net', 'for', 'for', 'important', 'overcast', 'bay', 'rusted', 'rusted', 'drives', 'archaeologists']\n",
            "[Epoch 1 / 50]\n",
            "=> Saving checkpoint\n",
            "Translated example sentence: \n",
            " ['the', '<unk>', 'is', 'a', 'a', 'a', 'a', 'a', 'a', 'a', 'a', 'a', '.', '<eos>']\n",
            "[Epoch 2 / 50]\n",
            "=> Saving checkpoint\n",
            "Translated example sentence: \n",
            " ['a', '<unk>', 'is', 'a', 'the', 'the', 'in', 'the', 'air', 'in', 'a', 'of', 'a', '.', '<eos>']\n",
            "[Epoch 3 / 50]\n",
            "=> Saving checkpoint\n",
            "Translated example sentence: \n",
            " ['a', 'is', 'a', 'a', 'a', 'in', 'a', 'a', 'in', 'a', 'a', '.', '<eos>']\n",
            "[Epoch 4 / 50]\n",
            "=> Saving checkpoint\n",
            "Translated example sentence: \n",
            " ['a', 'is', 'a', 'a', 'a', 'in', 'a', 'a', 'in', 'a', 'a', '.', '<eos>']\n",
            "[Epoch 5 / 50]\n",
            "=> Saving checkpoint\n",
            "Translated example sentence: \n",
            " ['a', 'is', 'a', 'a', 'a', 'in', 'a', 'a', 'with', 'a', '<unk>', 'in', 'the', 'background', '.', '<eos>']\n",
            "[Epoch 6 / 50]\n",
            "=> Saving checkpoint\n",
            "Translated example sentence: \n",
            " ['a', 'is', 'a', 'a', 'a', 'a', 'a', 'a', 'a', 'a', '.', '<eos>']\n",
            "[Epoch 7 / 50]\n",
            "=> Saving checkpoint\n",
            "Translated example sentence: \n",
            " ['a', 'is', 'a', 'a', 'red', 'car', 'with', 'a', 'red', 'in', 'in', 'the', '.', '<eos>']\n",
            "[Epoch 8 / 50]\n",
            "=> Saving checkpoint\n",
            "Translated example sentence: \n",
            " ['a', 'is', 'a', 'red', 'with', 'with', 'a', 'red', 'umbrella', 'near', 'a', 'tree', '.', '<eos>']\n",
            "[Epoch 9 / 50]\n",
            "=> Saving checkpoint\n",
            "Translated example sentence: \n",
            " ['a', 'is', 'a', 'red', 'sky', 'in', 'a', 'red', 'building', 'near', 'a', 'building', '.', '<eos>']\n",
            "[Epoch 10 / 50]\n",
            "=> Saving checkpoint\n",
            "Translated example sentence: \n",
            " ['red', '<unk>', 'is', 'a', 'a', 'red', 'sky', 'in', 'a', 'red', 'sky', '.', '<eos>']\n",
            "[Epoch 11 / 50]\n",
            "=> Saving checkpoint\n",
            "Translated example sentence: \n",
            " ['red', 'is', 'a', 'red', 'red', 'sky', 'in', 'a', 'a', 'a', 'a', '.', '<eos>']\n",
            "[Epoch 12 / 50]\n",
            "=> Saving checkpoint\n",
            "Translated example sentence: \n",
            " ['red', 'is', 'has', 'a', 'red', 'dish', 'in', 'a', 'red', 'area', '.', '<eos>']\n",
            "[Epoch 13 / 50]\n",
            "=> Saving checkpoint\n",
            "Translated example sentence: \n",
            " ['pitbull', 'is', 'a', 'red', 'dish', 'in', 'a', 'red', 'area', '.', '<eos>']\n",
            "[Epoch 14 / 50]\n",
            "=> Saving checkpoint\n",
            "Translated example sentence: \n",
            " ['pitbull', 'is', 'a', 'red', 'dish', 'in', 'a', 'red', 'parachute', '.', '<eos>']\n",
            "[Epoch 15 / 50]\n",
            "=> Saving checkpoint\n",
            "Translated example sentence: \n",
            " ['a', 'is', 'a', 'red', '<unk>', 'in', 'the', 'middle', 'of', 'a', 'building', '.', '<eos>']\n",
            "[Epoch 16 / 50]\n",
            "=> Saving checkpoint\n",
            "Translated example sentence: \n",
            " ['red', 'is', 'a', 'red', 'truck', 'under', 'a', 'red', 'sky', '.', '<eos>']\n",
            "[Epoch 17 / 50]\n",
            "=> Saving checkpoint\n",
            "Translated example sentence: \n",
            " ['a', 'is', 'a', 'red', 'a', 'red', 'sky', 'under', 'a', 'umbrella', '.', '<eos>']\n",
            "[Epoch 18 / 50]\n",
            "=> Saving checkpoint\n",
            "Translated example sentence: \n",
            " ['bird', 'is', 'a', 'red', 'in', 'in', 'red', 'in', 'a', 'red', 'sky', '.', '<eos>']\n",
            "[Epoch 19 / 50]\n",
            "=> Saving checkpoint\n",
            "Translated example sentence: \n",
            " ['this', 'is', 'a', 'red', 'sky', 'in', 'the', 'sky', '.', '<eos>']\n",
            "[Epoch 20 / 50]\n",
            "=> Saving checkpoint\n",
            "Translated example sentence: \n",
            " ['he', 'is', 'a', 'red', 'red', 'in', 'a', 'red', 'building', '.', '<eos>']\n",
            "[Epoch 21 / 50]\n",
            "=> Saving checkpoint\n",
            "Translated example sentence: \n",
            " ['this', 'is', 'a', 'red', 'with', 'red', 'in', 'in', 'the', 'air', '.', '<eos>']\n",
            "[Epoch 22 / 50]\n",
            "=> Saving checkpoint\n",
            "Translated example sentence: \n",
            " ['this', 'is', 'a', 'red', 'a', 'red', 'wagon', 'in', 'the', 'middle', 'of', 'a', 'building', '.', '<eos>']\n",
            "[Epoch 23 / 50]\n",
            "=> Saving checkpoint\n",
            "Translated example sentence: \n",
            " ['this', 'is', 'a', 'red', 'sky', 'under', 'a', 'red', 'sky', '.', '<eos>']\n",
            "[Epoch 24 / 50]\n",
            "=> Saving checkpoint\n",
            "Translated example sentence: \n",
            " ['pitbull', 'is', 'has', 'a', 'red', 'object', 'in', 'the', 'air', 'in', 'a', 'crowded', 'area', '.', '<eos>']\n",
            "[Epoch 25 / 50]\n",
            "=> Saving checkpoint\n",
            "Translated example sentence: \n",
            " ['this', 'is', 'a', 'red', 'car', 'under', 'a', 'red', 'helmet', 'in', 'a', '.', '<eos>']\n",
            "[Epoch 26 / 50]\n",
            "=> Saving checkpoint\n",
            "Translated example sentence: \n",
            " ['a', 'is', 'a', 'red', 'bird', 'under', 'a', 'red', 'umbrella', 'in', 'a', '.', '<eos>']\n",
            "[Epoch 27 / 50]\n",
            "=> Saving checkpoint\n",
            "Translated example sentence: \n",
            " ['this', 'is', 'a', 'red', 'umbrella', 'in', 'a', 'red', 'room', '.', '<eos>']\n",
            "[Epoch 28 / 50]\n",
            "=> Saving checkpoint\n",
            "Translated example sentence: \n",
            " ['this', 'is', 'a', 'red', 'sky', 'under', 'a', 'red', 'in', 'a', 'foreign', 'day', '.', '<eos>']\n",
            "[Epoch 29 / 50]\n",
            "=> Saving checkpoint\n",
            "Translated example sentence: \n",
            " ['this', 'is', 'a', 'red', 'truck', 'under', 'a', 'red', 'in', 'a', 'cloudy', 'air', '.', '<eos>']\n",
            "[Epoch 30 / 50]\n",
            "=> Saving checkpoint\n",
            "Translated example sentence: \n",
            " ['a', 'is', 'a', 'red', 'cart', 'in', 'a', 'room', 'with', 'a', 'well', 'in', 'the', '.', '<eos>']\n",
            "[Epoch 31 / 50]\n",
            "=> Saving checkpoint\n",
            "Translated example sentence: \n",
            " ['a', 'which', 'has', 'a', 'bird', 'in', 'a', 'open', 'room', '.', '<eos>']\n",
            "[Epoch 32 / 50]\n",
            "=> Saving checkpoint\n",
            "Translated example sentence: \n",
            " ['there', 'is', 'a', 'red', 'vendor', 'in', 'a', 'red', 'cart', 'in', 'a', 'foreign', 'country', '.', '<eos>']\n",
            "[Epoch 33 / 50]\n",
            "=> Saving checkpoint\n",
            "Translated example sentence: \n",
            " ['there', 'are', 'a', 'red', 'red', 'car', 'under', 'a', 'red', 'building', 'in', 'a', 'air', '.', '<eos>']\n",
            "[Epoch 34 / 50]\n",
            "=> Saving checkpoint\n",
            "Translated example sentence: \n",
            " ['a', 'things', 'is', 'a', 'red', 'dish', 'in', 'a', 'restaurant', '.', '<eos>']\n",
            "[Epoch 35 / 50]\n",
            "=> Saving checkpoint\n",
            "Translated example sentence: \n",
            " ['there', 'are', 'a', 'red', 'in', 'a', 'red', 'room', 'in', 'a', 'foreign', 'country', '.', '<eos>']\n",
            "[Epoch 36 / 50]\n",
            "=> Saving checkpoint\n",
            "Translated example sentence: \n",
            " ['building', 'are', 'putting', 'under', 'a', 'red', 'umbrella', 'in', 'a', 'area', '.', '<eos>']\n",
            "[Epoch 37 / 50]\n",
            "=> Saving checkpoint\n",
            "Translated example sentence: \n",
            " ['she', 'is', 'putting', 'under', 'a', 'red', 'umbrella', 'in', 'a', 'room', '.', '<eos>']\n",
            "[Epoch 38 / 50]\n",
            "=> Saving checkpoint\n",
            "Translated example sentence: \n",
            " ['there', 'is', 'a', 'red', 'car', 'in', 'a', 'room', 'with', 'a', 'foreign', 'country', '.', '<eos>']\n",
            "[Epoch 39 / 50]\n",
            "=> Saving checkpoint\n",
            "Translated example sentence: \n",
            " ['construction', 'team', 'putting', 'a', 'red', 'dish', 'in', 'a', 'foreign', 'area', '.', '<eos>']\n",
            "[Epoch 40 / 50]\n",
            "=> Saving checkpoint\n",
            "Translated example sentence: \n",
            " ['sunglasses', 'are', 'putting', 'under', 'a', 'red', 'dish', 'in', 'a', 'room', '.', '<eos>']\n",
            "[Epoch 41 / 50]\n",
            "=> Saving checkpoint\n",
            "Translated example sentence: \n",
            " ['this', 'is', 'a', 'red', 'and', 'red', 'umbrella', 'in', 'a', 'fish', '.', '<eos>']\n",
            "[Epoch 42 / 50]\n",
            "=> Saving checkpoint\n",
            "Translated example sentence: \n",
            " ['members', 'of', 'a', 'red', 'room', 'under', 'a', 'red', 'in', 'a', '<eos>']\n",
            "[Epoch 43 / 50]\n",
            "=> Saving checkpoint\n",
            "Translated example sentence: \n",
            " ['there', 'is', 'a', 'red', 'room', 'under', 'a', 'red', 'restaurant', 'in', 'a', 'restaurant', '.', '<eos>']\n",
            "[Epoch 44 / 50]\n",
            "=> Saving checkpoint\n",
            "Translated example sentence: \n",
            " ['scuba', 'things', 'putting', 'a', 'red', 'in', 'in', 'a', 'building', '.', '<eos>']\n",
            "[Epoch 45 / 50]\n",
            "=> Saving checkpoint\n",
            "Translated example sentence: \n",
            " ['construction', 'forces', 'putting', 'into', 'a', 'red', 'building', 'in', 'a', 'building', '.', '<eos>']\n",
            "[Epoch 46 / 50]\n",
            "=> Saving checkpoint\n",
            "Translated example sentence: \n",
            " ['a', 'large', 'a', 'red', 'room', 'under', 'a', 'red', 'japanese', 'fish', 'in', 'night', '.', '<eos>']\n",
            "[Epoch 47 / 50]\n",
            "=> Saving checkpoint\n",
            "Translated example sentence: \n",
            " ['construction', 'workers', 'putting', 'into', 'a', 'red', 'building', 'in', 'a', 'area', '.', '<eos>']\n",
            "[Epoch 48 / 50]\n",
            "=> Saving checkpoint\n",
            "Translated example sentence: \n",
            " ['local', 'workers', 'are', 'putting', 'into', 'a', 'red', 'sky', 'in', 'a', 'building', '.', '<eos>']\n",
            "[Epoch 49 / 50]\n",
            "=> Saving checkpoint\n",
            "Translated example sentence: \n",
            " ['a', 'things', 'player', 'has', 'a', 'red', 'umbrella', 'in', 'a', 'foreign', 'country', '.', '<eos>']\n",
            "Bleu score 18.04\n"
          ]
        }
      ]
    },
    {
      "cell_type": "code",
      "source": [
        "# !python seq2seq_model.py"
      ],
      "metadata": {
        "id": "KPNNABNIoYye"
      },
      "execution_count": 10,
      "outputs": []
    },
    {
      "cell_type": "code",
      "source": [
        ""
      ],
      "metadata": {
        "id": "C5agQaLxMOXY"
      },
      "execution_count": 14,
      "outputs": []
    }
  ]
}